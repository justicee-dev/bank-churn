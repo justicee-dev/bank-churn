{
 "cells": [
  {
   "cell_type": "markdown",
   "metadata": {},
   "source": [
    "<h1 style=\"text-align: center;\">CHURN PREDICTION ANALYSIS FOR BLUE-VALLEY BANK</h1>"
   ]
  },
  {
   "cell_type": "markdown",
   "metadata": {},
   "source": [
    "<img src='bank photo.jpg'>"
   ]
  },
  {
   "cell_type": "markdown",
   "metadata": {},
   "source": [
    "<h3 style=\"font-size:36px;\">Overview</h3>\n",
    "\n",
    "\n",
    "<body>\n",
    "At the Blue-Valley Bank,we noticed a worrying trend that clients were leaving and by the time this was realized it was too late to keep them.As the senior data scientist ,i led and investigation into five years of operational data to understand the root cause of these losses.By exploring features in the data uncovering of hidden signals that indicated customers churning was indentified\n",
    "\n",
    "Using these insights we built a predictive model to segment customers by their churn risk that is high,moderate and low.Through this  the model transformed the bank's approach from reacting after the fact to proactively reaching out to vulnerable clients.Now armed with the model built the Blue valley bank is at a better position to retain valuable clients and prevent losses\n",
    "</body>"
   ]
  },
  {
   "cell_type": "markdown",
   "metadata": {},
   "source": [
    "<h3 style=\"font-size:36px;\">Business Understanding</h3>\n"
   ]
  },
  {
   "cell_type": "markdown",
   "metadata": {},
   "source": [
    "The source of my data set is from kaggle https://www.kaggle.com/datasets/pentakrishnakishore/bank-customer-churn-data \n",
    "    \n",
    "My dataset is relevant since it has columns like age ,vintage which shows how long a client has stayed in a bank,customer net worth,last transaction which when doing feature engineering we can check how many days since the last transaction was done,we have dependents these are the people rellying upon the client,we have occupation what the client does we have the monthly ,average and current balances that helps us gauge what balance the clients have."
   ]
  },
  {
   "cell_type": "markdown",
   "metadata": {},
   "source": [
    "<h3 style=\"font-size:36px;\"><b>Problem Statement</b></h3>\n"
   ]
  },
  {
   "cell_type": "markdown",
   "metadata": {},
   "source": [
    "<body>\n",
    "Blue-Valley Bank has faced rsing customer churn over the past five years,resulting in significant financial losses.The bank lacked a way to predict which customers were at risk of leavinf early enough to intervene.This project focuses on analyzing customer data to build a suitable  predictive model that identifies high risk churners and supports targeted retention efforts\n",
    "</body>    "
   ]
  },
  {
   "cell_type": "markdown",
   "metadata": {},
   "source": [
    "<h3 style=\"font-size:36px;\">Main Objective</h3>\n"
   ]
  },
  {
   "cell_type": "markdown",
   "metadata": {},
   "source": [
    "\n",
    "<body>\n",
    "    How can we predict which clients of Blue-Valley bank are likely to churn and how can we segment them based on their churn risk using an appropriate predictive model?\n",
    "    </body>"
   ]
  },
  {
   "cell_type": "markdown",
   "metadata": {},
   "source": [
    "<h3 style=\"font-size:36px;\">Specific Objective</h3>\n",
    "\n"
   ]
  },
  {
   "cell_type": "markdown",
   "metadata": {},
   "source": [
    "<ul>\n",
    "<li>Which features most influence whether a client will churn or not at Blue-Valley Bank?</li>\n",
    "<li>Which predictive model between logistic and decision tree will most effectively identify clients likely to churn in terms of performance?</li>\n",
    "<li>How can clients be segmented into high,moderate and low churn risk categories based on their predicated probability of churning?</li>\n",
    "</ul>"
   ]
  },
  {
   "cell_type": "markdown",
   "metadata": {},
   "source": [
    "<h3 style=\"font-size:36px;\">DATA UNDERSTANDING</h3>\n"
   ]
  },
  {
   "cell_type": "markdown",
   "metadata": {},
   "source": [
    "we first import libraries, load the dataset and the understand our data"
   ]
  },
  {
   "cell_type": "code",
   "execution_count": 56,
   "metadata": {},
   "outputs": [],
   "source": [
    "import pandas as pd\n",
    "import numpy as np\n",
    "import matplotlib.pyplot as plt\n",
    "import seaborn as sns\n",
    "from sklearn.model_selection import train_test_split\n",
    "from sklearn.preprocessing import MinMaxScaler,OneHotEncoder\n",
    "from sklearn.linear_model import LogisticRegression\n",
    "from sklearn.tree import DecisionTreeClassifier,plot_tree\n",
    "from sklearn.metrics import accuracy_score,precision_score,recall_score,f1_score,roc_auc_score\n",
    "from imblearn.over_sampling import SMOTE\n",
    "from sklearn.tree import DecisionTreeClassifier\n",
    "from sklearn.metrics import roc_curve,auc\n",
    "from sklearn.metrics import classification_report,confusion_matrix,roc_curve,auc,roc_auc_score"
   ]
  },
  {
   "cell_type": "code",
   "execution_count": 57,
   "metadata": {},
   "outputs": [
    {
     "data": {
      "text/html": [
       "<div>\n",
       "<style scoped>\n",
       "    .dataframe tbody tr th:only-of-type {\n",
       "        vertical-align: middle;\n",
       "    }\n",
       "\n",
       "    .dataframe tbody tr th {\n",
       "        vertical-align: top;\n",
       "    }\n",
       "\n",
       "    .dataframe thead th {\n",
       "        text-align: right;\n",
       "    }\n",
       "</style>\n",
       "<table border=\"1\" class=\"dataframe\">\n",
       "  <thead>\n",
       "    <tr style=\"text-align: right;\">\n",
       "      <th></th>\n",
       "      <th>customer_id</th>\n",
       "      <th>vintage</th>\n",
       "      <th>age</th>\n",
       "      <th>gender</th>\n",
       "      <th>dependents</th>\n",
       "      <th>occupation</th>\n",
       "      <th>city</th>\n",
       "      <th>customer_nw_category</th>\n",
       "      <th>branch_code</th>\n",
       "      <th>current_balance</th>\n",
       "      <th>...</th>\n",
       "      <th>average_monthly_balance_prevQ</th>\n",
       "      <th>average_monthly_balance_prevQ2</th>\n",
       "      <th>current_month_credit</th>\n",
       "      <th>previous_month_credit</th>\n",
       "      <th>current_month_debit</th>\n",
       "      <th>previous_month_debit</th>\n",
       "      <th>current_month_balance</th>\n",
       "      <th>previous_month_balance</th>\n",
       "      <th>churn</th>\n",
       "      <th>last_transaction</th>\n",
       "    </tr>\n",
       "  </thead>\n",
       "  <tbody>\n",
       "    <tr>\n",
       "      <th>0</th>\n",
       "      <td>1</td>\n",
       "      <td>2101</td>\n",
       "      <td>66</td>\n",
       "      <td>Male</td>\n",
       "      <td>0.0</td>\n",
       "      <td>self_employed</td>\n",
       "      <td>187.0</td>\n",
       "      <td>2</td>\n",
       "      <td>755</td>\n",
       "      <td>1458.71</td>\n",
       "      <td>...</td>\n",
       "      <td>1458.71</td>\n",
       "      <td>1449.07</td>\n",
       "      <td>0.20</td>\n",
       "      <td>0.20</td>\n",
       "      <td>0.20</td>\n",
       "      <td>0.20</td>\n",
       "      <td>1458.71</td>\n",
       "      <td>1458.71</td>\n",
       "      <td>0</td>\n",
       "      <td>2019-05-21</td>\n",
       "    </tr>\n",
       "    <tr>\n",
       "      <th>1</th>\n",
       "      <td>2</td>\n",
       "      <td>2348</td>\n",
       "      <td>35</td>\n",
       "      <td>Male</td>\n",
       "      <td>0.0</td>\n",
       "      <td>self_employed</td>\n",
       "      <td>NaN</td>\n",
       "      <td>2</td>\n",
       "      <td>3214</td>\n",
       "      <td>5390.37</td>\n",
       "      <td>...</td>\n",
       "      <td>7799.26</td>\n",
       "      <td>12419.41</td>\n",
       "      <td>0.56</td>\n",
       "      <td>0.56</td>\n",
       "      <td>5486.27</td>\n",
       "      <td>100.56</td>\n",
       "      <td>6496.78</td>\n",
       "      <td>8787.61</td>\n",
       "      <td>0</td>\n",
       "      <td>2019-11-01</td>\n",
       "    </tr>\n",
       "    <tr>\n",
       "      <th>2</th>\n",
       "      <td>4</td>\n",
       "      <td>2194</td>\n",
       "      <td>31</td>\n",
       "      <td>Male</td>\n",
       "      <td>0.0</td>\n",
       "      <td>salaried</td>\n",
       "      <td>146.0</td>\n",
       "      <td>2</td>\n",
       "      <td>41</td>\n",
       "      <td>3913.16</td>\n",
       "      <td>...</td>\n",
       "      <td>4910.17</td>\n",
       "      <td>2815.94</td>\n",
       "      <td>0.61</td>\n",
       "      <td>0.61</td>\n",
       "      <td>6046.73</td>\n",
       "      <td>259.23</td>\n",
       "      <td>5006.28</td>\n",
       "      <td>5070.14</td>\n",
       "      <td>0</td>\n",
       "      <td>NaT</td>\n",
       "    </tr>\n",
       "    <tr>\n",
       "      <th>3</th>\n",
       "      <td>5</td>\n",
       "      <td>2329</td>\n",
       "      <td>90</td>\n",
       "      <td>NaN</td>\n",
       "      <td>NaN</td>\n",
       "      <td>self_employed</td>\n",
       "      <td>1020.0</td>\n",
       "      <td>2</td>\n",
       "      <td>582</td>\n",
       "      <td>2291.91</td>\n",
       "      <td>...</td>\n",
       "      <td>2084.54</td>\n",
       "      <td>1006.54</td>\n",
       "      <td>0.47</td>\n",
       "      <td>0.47</td>\n",
       "      <td>0.47</td>\n",
       "      <td>2143.33</td>\n",
       "      <td>2291.91</td>\n",
       "      <td>1669.79</td>\n",
       "      <td>1</td>\n",
       "      <td>2019-08-06</td>\n",
       "    </tr>\n",
       "    <tr>\n",
       "      <th>4</th>\n",
       "      <td>6</td>\n",
       "      <td>1579</td>\n",
       "      <td>42</td>\n",
       "      <td>Male</td>\n",
       "      <td>2.0</td>\n",
       "      <td>self_employed</td>\n",
       "      <td>1494.0</td>\n",
       "      <td>3</td>\n",
       "      <td>388</td>\n",
       "      <td>927.72</td>\n",
       "      <td>...</td>\n",
       "      <td>1643.31</td>\n",
       "      <td>1871.12</td>\n",
       "      <td>0.33</td>\n",
       "      <td>714.61</td>\n",
       "      <td>588.62</td>\n",
       "      <td>1538.06</td>\n",
       "      <td>1157.15</td>\n",
       "      <td>1677.16</td>\n",
       "      <td>1</td>\n",
       "      <td>2019-11-03</td>\n",
       "    </tr>\n",
       "    <tr>\n",
       "      <th>...</th>\n",
       "      <td>...</td>\n",
       "      <td>...</td>\n",
       "      <td>...</td>\n",
       "      <td>...</td>\n",
       "      <td>...</td>\n",
       "      <td>...</td>\n",
       "      <td>...</td>\n",
       "      <td>...</td>\n",
       "      <td>...</td>\n",
       "      <td>...</td>\n",
       "      <td>...</td>\n",
       "      <td>...</td>\n",
       "      <td>...</td>\n",
       "      <td>...</td>\n",
       "      <td>...</td>\n",
       "      <td>...</td>\n",
       "      <td>...</td>\n",
       "      <td>...</td>\n",
       "      <td>...</td>\n",
       "      <td>...</td>\n",
       "      <td>...</td>\n",
       "    </tr>\n",
       "    <tr>\n",
       "      <th>28377</th>\n",
       "      <td>30297</td>\n",
       "      <td>2325</td>\n",
       "      <td>10</td>\n",
       "      <td>Female</td>\n",
       "      <td>0.0</td>\n",
       "      <td>student</td>\n",
       "      <td>1020.0</td>\n",
       "      <td>2</td>\n",
       "      <td>1207</td>\n",
       "      <td>1076.43</td>\n",
       "      <td>...</td>\n",
       "      <td>2282.19</td>\n",
       "      <td>2787.70</td>\n",
       "      <td>0.30</td>\n",
       "      <td>0.30</td>\n",
       "      <td>0.30</td>\n",
       "      <td>0.30</td>\n",
       "      <td>1076.43</td>\n",
       "      <td>1076.43</td>\n",
       "      <td>0</td>\n",
       "      <td>2019-10-22</td>\n",
       "    </tr>\n",
       "    <tr>\n",
       "      <th>28378</th>\n",
       "      <td>30298</td>\n",
       "      <td>1537</td>\n",
       "      <td>34</td>\n",
       "      <td>Female</td>\n",
       "      <td>0.0</td>\n",
       "      <td>self_employed</td>\n",
       "      <td>1046.0</td>\n",
       "      <td>2</td>\n",
       "      <td>223</td>\n",
       "      <td>3844.10</td>\n",
       "      <td>...</td>\n",
       "      <td>3668.83</td>\n",
       "      <td>3865.55</td>\n",
       "      <td>1.71</td>\n",
       "      <td>2.29</td>\n",
       "      <td>901.00</td>\n",
       "      <td>1014.07</td>\n",
       "      <td>3738.54</td>\n",
       "      <td>3690.32</td>\n",
       "      <td>0</td>\n",
       "      <td>2019-12-17</td>\n",
       "    </tr>\n",
       "    <tr>\n",
       "      <th>28379</th>\n",
       "      <td>30299</td>\n",
       "      <td>2376</td>\n",
       "      <td>47</td>\n",
       "      <td>Male</td>\n",
       "      <td>0.0</td>\n",
       "      <td>salaried</td>\n",
       "      <td>1096.0</td>\n",
       "      <td>2</td>\n",
       "      <td>588</td>\n",
       "      <td>65511.97</td>\n",
       "      <td>...</td>\n",
       "      <td>53444.81</td>\n",
       "      <td>21925.81</td>\n",
       "      <td>4666.84</td>\n",
       "      <td>3883.06</td>\n",
       "      <td>168.23</td>\n",
       "      <td>71.80</td>\n",
       "      <td>61078.50</td>\n",
       "      <td>57564.24</td>\n",
       "      <td>1</td>\n",
       "      <td>2019-12-31</td>\n",
       "    </tr>\n",
       "    <tr>\n",
       "      <th>28380</th>\n",
       "      <td>30300</td>\n",
       "      <td>1745</td>\n",
       "      <td>50</td>\n",
       "      <td>Male</td>\n",
       "      <td>3.0</td>\n",
       "      <td>self_employed</td>\n",
       "      <td>1219.0</td>\n",
       "      <td>3</td>\n",
       "      <td>274</td>\n",
       "      <td>1625.55</td>\n",
       "      <td>...</td>\n",
       "      <td>1683.20</td>\n",
       "      <td>1857.42</td>\n",
       "      <td>0.20</td>\n",
       "      <td>0.20</td>\n",
       "      <td>0.20</td>\n",
       "      <td>0.20</td>\n",
       "      <td>1625.55</td>\n",
       "      <td>1625.55</td>\n",
       "      <td>0</td>\n",
       "      <td>NaT</td>\n",
       "    </tr>\n",
       "    <tr>\n",
       "      <th>28381</th>\n",
       "      <td>30301</td>\n",
       "      <td>1175</td>\n",
       "      <td>18</td>\n",
       "      <td>Male</td>\n",
       "      <td>0.0</td>\n",
       "      <td>student</td>\n",
       "      <td>1232.0</td>\n",
       "      <td>2</td>\n",
       "      <td>474</td>\n",
       "      <td>2107.05</td>\n",
       "      <td>...</td>\n",
       "      <td>3213.44</td>\n",
       "      <td>4447.45</td>\n",
       "      <td>0.11</td>\n",
       "      <td>7.44</td>\n",
       "      <td>714.40</td>\n",
       "      <td>1094.09</td>\n",
       "      <td>2402.62</td>\n",
       "      <td>3260.58</td>\n",
       "      <td>1</td>\n",
       "      <td>2019-11-02</td>\n",
       "    </tr>\n",
       "  </tbody>\n",
       "</table>\n",
       "<p>28382 rows × 21 columns</p>\n",
       "</div>"
      ],
      "text/plain": [
       "       customer_id  vintage  age  gender  dependents     occupation    city  \\\n",
       "0                1     2101   66    Male         0.0  self_employed   187.0   \n",
       "1                2     2348   35    Male         0.0  self_employed     NaN   \n",
       "2                4     2194   31    Male         0.0       salaried   146.0   \n",
       "3                5     2329   90     NaN         NaN  self_employed  1020.0   \n",
       "4                6     1579   42    Male         2.0  self_employed  1494.0   \n",
       "...            ...      ...  ...     ...         ...            ...     ...   \n",
       "28377        30297     2325   10  Female         0.0        student  1020.0   \n",
       "28378        30298     1537   34  Female         0.0  self_employed  1046.0   \n",
       "28379        30299     2376   47    Male         0.0       salaried  1096.0   \n",
       "28380        30300     1745   50    Male         3.0  self_employed  1219.0   \n",
       "28381        30301     1175   18    Male         0.0        student  1232.0   \n",
       "\n",
       "       customer_nw_category  branch_code  current_balance  ...  \\\n",
       "0                         2          755          1458.71  ...   \n",
       "1                         2         3214          5390.37  ...   \n",
       "2                         2           41          3913.16  ...   \n",
       "3                         2          582          2291.91  ...   \n",
       "4                         3          388           927.72  ...   \n",
       "...                     ...          ...              ...  ...   \n",
       "28377                     2         1207          1076.43  ...   \n",
       "28378                     2          223          3844.10  ...   \n",
       "28379                     2          588         65511.97  ...   \n",
       "28380                     3          274          1625.55  ...   \n",
       "28381                     2          474          2107.05  ...   \n",
       "\n",
       "       average_monthly_balance_prevQ  average_monthly_balance_prevQ2  \\\n",
       "0                            1458.71                         1449.07   \n",
       "1                            7799.26                        12419.41   \n",
       "2                            4910.17                         2815.94   \n",
       "3                            2084.54                         1006.54   \n",
       "4                            1643.31                         1871.12   \n",
       "...                              ...                             ...   \n",
       "28377                        2282.19                         2787.70   \n",
       "28378                        3668.83                         3865.55   \n",
       "28379                       53444.81                        21925.81   \n",
       "28380                        1683.20                         1857.42   \n",
       "28381                        3213.44                         4447.45   \n",
       "\n",
       "       current_month_credit  previous_month_credit  current_month_debit  \\\n",
       "0                      0.20                   0.20                 0.20   \n",
       "1                      0.56                   0.56              5486.27   \n",
       "2                      0.61                   0.61              6046.73   \n",
       "3                      0.47                   0.47                 0.47   \n",
       "4                      0.33                 714.61               588.62   \n",
       "...                     ...                    ...                  ...   \n",
       "28377                  0.30                   0.30                 0.30   \n",
       "28378                  1.71                   2.29               901.00   \n",
       "28379               4666.84                3883.06               168.23   \n",
       "28380                  0.20                   0.20                 0.20   \n",
       "28381                  0.11                   7.44               714.40   \n",
       "\n",
       "       previous_month_debit  current_month_balance  previous_month_balance  \\\n",
       "0                      0.20                1458.71                 1458.71   \n",
       "1                    100.56                6496.78                 8787.61   \n",
       "2                    259.23                5006.28                 5070.14   \n",
       "3                   2143.33                2291.91                 1669.79   \n",
       "4                   1538.06                1157.15                 1677.16   \n",
       "...                     ...                    ...                     ...   \n",
       "28377                  0.30                1076.43                 1076.43   \n",
       "28378               1014.07                3738.54                 3690.32   \n",
       "28379                 71.80               61078.50                57564.24   \n",
       "28380                  0.20                1625.55                 1625.55   \n",
       "28381               1094.09                2402.62                 3260.58   \n",
       "\n",
       "       churn  last_transaction  \n",
       "0          0        2019-05-21  \n",
       "1          0        2019-11-01  \n",
       "2          0               NaT  \n",
       "3          1        2019-08-06  \n",
       "4          1        2019-11-03  \n",
       "...      ...               ...  \n",
       "28377      0        2019-10-22  \n",
       "28378      0        2019-12-17  \n",
       "28379      1        2019-12-31  \n",
       "28380      0               NaT  \n",
       "28381      1        2019-11-02  \n",
       "\n",
       "[28382 rows x 21 columns]"
      ]
     },
     "execution_count": 57,
     "metadata": {},
     "output_type": "execute_result"
    }
   ],
   "source": [
    "#loading the dataset \n",
    "df=pd.read_csv('churn_prediction.csv')\n",
    "df"
   ]
  },
  {
   "cell_type": "code",
   "execution_count": 58,
   "metadata": {},
   "outputs": [
    {
     "name": "stdout",
     "output_type": "stream",
     "text": [
      "<class 'pandas.core.frame.DataFrame'>\n",
      "RangeIndex: 28382 entries, 0 to 28381\n",
      "Data columns (total 21 columns):\n",
      " #   Column                          Non-Null Count  Dtype  \n",
      "---  ------                          --------------  -----  \n",
      " 0   customer_id                     28382 non-null  int64  \n",
      " 1   vintage                         28382 non-null  int64  \n",
      " 2   age                             28382 non-null  int64  \n",
      " 3   gender                          27857 non-null  object \n",
      " 4   dependents                      25919 non-null  float64\n",
      " 5   occupation                      28302 non-null  object \n",
      " 6   city                            27579 non-null  float64\n",
      " 7   customer_nw_category            28382 non-null  int64  \n",
      " 8   branch_code                     28382 non-null  int64  \n",
      " 9   current_balance                 28382 non-null  float64\n",
      " 10  previous_month_end_balance      28382 non-null  float64\n",
      " 11  average_monthly_balance_prevQ   28382 non-null  float64\n",
      " 12  average_monthly_balance_prevQ2  28382 non-null  float64\n",
      " 13  current_month_credit            28382 non-null  float64\n",
      " 14  previous_month_credit           28382 non-null  float64\n",
      " 15  current_month_debit             28382 non-null  float64\n",
      " 16  previous_month_debit            28382 non-null  float64\n",
      " 17  current_month_balance           28382 non-null  float64\n",
      " 18  previous_month_balance          28382 non-null  float64\n",
      " 19  churn                           28382 non-null  int64  \n",
      " 20  last_transaction                28382 non-null  object \n",
      "dtypes: float64(12), int64(6), object(3)\n",
      "memory usage: 4.5+ MB\n"
     ]
    }
   ],
   "source": [
    "#check data infomation and preview\n",
    "df.info()"
   ]
  },
  {
   "cell_type": "markdown",
   "metadata": {},
   "source": [
    "We have 28382 entries with 21 columns 6 integer columns 3 objects and 11 float columns"
   ]
  },
  {
   "cell_type": "code",
   "execution_count": 59,
   "metadata": {},
   "outputs": [
    {
     "data": {
      "text/html": [
       "<div>\n",
       "<style scoped>\n",
       "    .dataframe tbody tr th:only-of-type {\n",
       "        vertical-align: middle;\n",
       "    }\n",
       "\n",
       "    .dataframe tbody tr th {\n",
       "        vertical-align: top;\n",
       "    }\n",
       "\n",
       "    .dataframe thead th {\n",
       "        text-align: right;\n",
       "    }\n",
       "</style>\n",
       "<table border=\"1\" class=\"dataframe\">\n",
       "  <thead>\n",
       "    <tr style=\"text-align: right;\">\n",
       "      <th></th>\n",
       "      <th>customer_id</th>\n",
       "      <th>vintage</th>\n",
       "      <th>age</th>\n",
       "      <th>dependents</th>\n",
       "      <th>city</th>\n",
       "      <th>customer_nw_category</th>\n",
       "      <th>branch_code</th>\n",
       "      <th>current_balance</th>\n",
       "      <th>previous_month_end_balance</th>\n",
       "      <th>average_monthly_balance_prevQ</th>\n",
       "      <th>average_monthly_balance_prevQ2</th>\n",
       "      <th>current_month_credit</th>\n",
       "      <th>previous_month_credit</th>\n",
       "      <th>current_month_debit</th>\n",
       "      <th>previous_month_debit</th>\n",
       "      <th>current_month_balance</th>\n",
       "      <th>previous_month_balance</th>\n",
       "      <th>churn</th>\n",
       "    </tr>\n",
       "  </thead>\n",
       "  <tbody>\n",
       "    <tr>\n",
       "      <th>count</th>\n",
       "      <td>28382.000000</td>\n",
       "      <td>28382.000000</td>\n",
       "      <td>28382.000000</td>\n",
       "      <td>25919.000000</td>\n",
       "      <td>27579.000000</td>\n",
       "      <td>28382.000000</td>\n",
       "      <td>28382.000000</td>\n",
       "      <td>2.838200e+04</td>\n",
       "      <td>2.838200e+04</td>\n",
       "      <td>2.838200e+04</td>\n",
       "      <td>2.838200e+04</td>\n",
       "      <td>2.838200e+04</td>\n",
       "      <td>2.838200e+04</td>\n",
       "      <td>2.838200e+04</td>\n",
       "      <td>2.838200e+04</td>\n",
       "      <td>2.838200e+04</td>\n",
       "      <td>2.838200e+04</td>\n",
       "      <td>28382.000000</td>\n",
       "    </tr>\n",
       "    <tr>\n",
       "      <th>mean</th>\n",
       "      <td>15143.508667</td>\n",
       "      <td>2091.144105</td>\n",
       "      <td>48.208336</td>\n",
       "      <td>0.347236</td>\n",
       "      <td>796.109576</td>\n",
       "      <td>2.225530</td>\n",
       "      <td>925.975019</td>\n",
       "      <td>7.380552e+03</td>\n",
       "      <td>7.495771e+03</td>\n",
       "      <td>7.496780e+03</td>\n",
       "      <td>7.124209e+03</td>\n",
       "      <td>3.433252e+03</td>\n",
       "      <td>3.261694e+03</td>\n",
       "      <td>3.658745e+03</td>\n",
       "      <td>3.339761e+03</td>\n",
       "      <td>7.451133e+03</td>\n",
       "      <td>7.495177e+03</td>\n",
       "      <td>0.185329</td>\n",
       "    </tr>\n",
       "    <tr>\n",
       "      <th>std</th>\n",
       "      <td>8746.454456</td>\n",
       "      <td>272.676775</td>\n",
       "      <td>17.807163</td>\n",
       "      <td>0.997661</td>\n",
       "      <td>432.872102</td>\n",
       "      <td>0.660443</td>\n",
       "      <td>937.799129</td>\n",
       "      <td>4.259871e+04</td>\n",
       "      <td>4.252935e+04</td>\n",
       "      <td>4.172622e+04</td>\n",
       "      <td>4.457581e+04</td>\n",
       "      <td>7.707145e+04</td>\n",
       "      <td>2.968889e+04</td>\n",
       "      <td>5.198542e+04</td>\n",
       "      <td>2.430111e+04</td>\n",
       "      <td>4.203394e+04</td>\n",
       "      <td>4.243198e+04</td>\n",
       "      <td>0.388571</td>\n",
       "    </tr>\n",
       "    <tr>\n",
       "      <th>min</th>\n",
       "      <td>1.000000</td>\n",
       "      <td>73.000000</td>\n",
       "      <td>1.000000</td>\n",
       "      <td>0.000000</td>\n",
       "      <td>0.000000</td>\n",
       "      <td>1.000000</td>\n",
       "      <td>1.000000</td>\n",
       "      <td>-5.503960e+03</td>\n",
       "      <td>-3.149570e+03</td>\n",
       "      <td>1.428690e+03</td>\n",
       "      <td>-1.650610e+04</td>\n",
       "      <td>1.000000e-02</td>\n",
       "      <td>1.000000e-02</td>\n",
       "      <td>1.000000e-02</td>\n",
       "      <td>1.000000e-02</td>\n",
       "      <td>-3.374180e+03</td>\n",
       "      <td>-5.171920e+03</td>\n",
       "      <td>0.000000</td>\n",
       "    </tr>\n",
       "    <tr>\n",
       "      <th>25%</th>\n",
       "      <td>7557.250000</td>\n",
       "      <td>1958.000000</td>\n",
       "      <td>36.000000</td>\n",
       "      <td>0.000000</td>\n",
       "      <td>409.000000</td>\n",
       "      <td>2.000000</td>\n",
       "      <td>176.000000</td>\n",
       "      <td>1.784470e+03</td>\n",
       "      <td>1.906000e+03</td>\n",
       "      <td>2.180945e+03</td>\n",
       "      <td>1.832507e+03</td>\n",
       "      <td>3.100000e-01</td>\n",
       "      <td>3.300000e-01</td>\n",
       "      <td>4.100000e-01</td>\n",
       "      <td>4.100000e-01</td>\n",
       "      <td>1.996765e+03</td>\n",
       "      <td>2.074407e+03</td>\n",
       "      <td>0.000000</td>\n",
       "    </tr>\n",
       "    <tr>\n",
       "      <th>50%</th>\n",
       "      <td>15150.500000</td>\n",
       "      <td>2154.000000</td>\n",
       "      <td>46.000000</td>\n",
       "      <td>0.000000</td>\n",
       "      <td>834.000000</td>\n",
       "      <td>2.000000</td>\n",
       "      <td>572.000000</td>\n",
       "      <td>3.281255e+03</td>\n",
       "      <td>3.379915e+03</td>\n",
       "      <td>3.542865e+03</td>\n",
       "      <td>3.359600e+03</td>\n",
       "      <td>6.100000e-01</td>\n",
       "      <td>6.300000e-01</td>\n",
       "      <td>9.193000e+01</td>\n",
       "      <td>1.099600e+02</td>\n",
       "      <td>3.447995e+03</td>\n",
       "      <td>3.465235e+03</td>\n",
       "      <td>0.000000</td>\n",
       "    </tr>\n",
       "    <tr>\n",
       "      <th>75%</th>\n",
       "      <td>22706.750000</td>\n",
       "      <td>2292.000000</td>\n",
       "      <td>60.000000</td>\n",
       "      <td>0.000000</td>\n",
       "      <td>1096.000000</td>\n",
       "      <td>3.000000</td>\n",
       "      <td>1440.000000</td>\n",
       "      <td>6.635820e+03</td>\n",
       "      <td>6.656535e+03</td>\n",
       "      <td>6.666887e+03</td>\n",
       "      <td>6.517960e+03</td>\n",
       "      <td>7.072725e+02</td>\n",
       "      <td>7.492350e+02</td>\n",
       "      <td>1.360435e+03</td>\n",
       "      <td>1.357553e+03</td>\n",
       "      <td>6.667958e+03</td>\n",
       "      <td>6.654693e+03</td>\n",
       "      <td>0.000000</td>\n",
       "    </tr>\n",
       "    <tr>\n",
       "      <th>max</th>\n",
       "      <td>30301.000000</td>\n",
       "      <td>2476.000000</td>\n",
       "      <td>90.000000</td>\n",
       "      <td>52.000000</td>\n",
       "      <td>1649.000000</td>\n",
       "      <td>3.000000</td>\n",
       "      <td>4782.000000</td>\n",
       "      <td>5.905904e+06</td>\n",
       "      <td>5.740439e+06</td>\n",
       "      <td>5.700290e+06</td>\n",
       "      <td>5.010170e+06</td>\n",
       "      <td>1.226985e+07</td>\n",
       "      <td>2.361808e+06</td>\n",
       "      <td>7.637857e+06</td>\n",
       "      <td>1.414168e+06</td>\n",
       "      <td>5.778185e+06</td>\n",
       "      <td>5.720144e+06</td>\n",
       "      <td>1.000000</td>\n",
       "    </tr>\n",
       "  </tbody>\n",
       "</table>\n",
       "</div>"
      ],
      "text/plain": [
       "        customer_id       vintage           age    dependents          city  \\\n",
       "count  28382.000000  28382.000000  28382.000000  25919.000000  27579.000000   \n",
       "mean   15143.508667   2091.144105     48.208336      0.347236    796.109576   \n",
       "std     8746.454456    272.676775     17.807163      0.997661    432.872102   \n",
       "min        1.000000     73.000000      1.000000      0.000000      0.000000   \n",
       "25%     7557.250000   1958.000000     36.000000      0.000000    409.000000   \n",
       "50%    15150.500000   2154.000000     46.000000      0.000000    834.000000   \n",
       "75%    22706.750000   2292.000000     60.000000      0.000000   1096.000000   \n",
       "max    30301.000000   2476.000000     90.000000     52.000000   1649.000000   \n",
       "\n",
       "       customer_nw_category   branch_code  current_balance  \\\n",
       "count          28382.000000  28382.000000     2.838200e+04   \n",
       "mean               2.225530    925.975019     7.380552e+03   \n",
       "std                0.660443    937.799129     4.259871e+04   \n",
       "min                1.000000      1.000000    -5.503960e+03   \n",
       "25%                2.000000    176.000000     1.784470e+03   \n",
       "50%                2.000000    572.000000     3.281255e+03   \n",
       "75%                3.000000   1440.000000     6.635820e+03   \n",
       "max                3.000000   4782.000000     5.905904e+06   \n",
       "\n",
       "       previous_month_end_balance  average_monthly_balance_prevQ  \\\n",
       "count                2.838200e+04                   2.838200e+04   \n",
       "mean                 7.495771e+03                   7.496780e+03   \n",
       "std                  4.252935e+04                   4.172622e+04   \n",
       "min                 -3.149570e+03                   1.428690e+03   \n",
       "25%                  1.906000e+03                   2.180945e+03   \n",
       "50%                  3.379915e+03                   3.542865e+03   \n",
       "75%                  6.656535e+03                   6.666887e+03   \n",
       "max                  5.740439e+06                   5.700290e+06   \n",
       "\n",
       "       average_monthly_balance_prevQ2  current_month_credit  \\\n",
       "count                    2.838200e+04          2.838200e+04   \n",
       "mean                     7.124209e+03          3.433252e+03   \n",
       "std                      4.457581e+04          7.707145e+04   \n",
       "min                     -1.650610e+04          1.000000e-02   \n",
       "25%                      1.832507e+03          3.100000e-01   \n",
       "50%                      3.359600e+03          6.100000e-01   \n",
       "75%                      6.517960e+03          7.072725e+02   \n",
       "max                      5.010170e+06          1.226985e+07   \n",
       "\n",
       "       previous_month_credit  current_month_debit  previous_month_debit  \\\n",
       "count           2.838200e+04         2.838200e+04          2.838200e+04   \n",
       "mean            3.261694e+03         3.658745e+03          3.339761e+03   \n",
       "std             2.968889e+04         5.198542e+04          2.430111e+04   \n",
       "min             1.000000e-02         1.000000e-02          1.000000e-02   \n",
       "25%             3.300000e-01         4.100000e-01          4.100000e-01   \n",
       "50%             6.300000e-01         9.193000e+01          1.099600e+02   \n",
       "75%             7.492350e+02         1.360435e+03          1.357553e+03   \n",
       "max             2.361808e+06         7.637857e+06          1.414168e+06   \n",
       "\n",
       "       current_month_balance  previous_month_balance         churn  \n",
       "count           2.838200e+04            2.838200e+04  28382.000000  \n",
       "mean            7.451133e+03            7.495177e+03      0.185329  \n",
       "std             4.203394e+04            4.243198e+04      0.388571  \n",
       "min            -3.374180e+03           -5.171920e+03      0.000000  \n",
       "25%             1.996765e+03            2.074407e+03      0.000000  \n",
       "50%             3.447995e+03            3.465235e+03      0.000000  \n",
       "75%             6.667958e+03            6.654693e+03      0.000000  \n",
       "max             5.778185e+06            5.720144e+06      1.000000  "
      ]
     },
     "execution_count": 59,
     "metadata": {},
     "output_type": "execute_result"
    }
   ],
   "source": [
    "# we also check the descriptive analysis\n",
    "df.describe()"
   ]
  },
  {
   "cell_type": "markdown",
   "metadata": {},
   "source": [
    "<h3 style=\"font-size:36px;\">DATA PREPARATION</h3>\n",
    "<ol>\n",
    "<li>Handle missing values</li>\n",
    "<li>check for duplicates and remove</li>\n",
    "<li>check for  outliers</li>\n",
    "</ol>\n"
   ]
  },
  {
   "cell_type": "code",
   "execution_count": 60,
   "metadata": {},
   "outputs": [
    {
     "data": {
      "text/plain": [
       "3871"
      ]
     },
     "execution_count": 60,
     "metadata": {},
     "output_type": "execute_result"
    }
   ],
   "source": [
    "# we will remove check for missing values and remove them \n",
    "df.isna().sum().sum()"
   ]
  },
  {
   "cell_type": "code",
   "execution_count": 61,
   "metadata": {},
   "outputs": [
    {
     "data": {
      "text/plain": [
       "customer_id                          0\n",
       "vintage                              0\n",
       "age                                  0\n",
       "gender                             525\n",
       "dependents                        2463\n",
       "occupation                          80\n",
       "city                               803\n",
       "customer_nw_category                 0\n",
       "branch_code                          0\n",
       "current_balance                      0\n",
       "previous_month_end_balance           0\n",
       "average_monthly_balance_prevQ        0\n",
       "average_monthly_balance_prevQ2       0\n",
       "current_month_credit                 0\n",
       "previous_month_credit                0\n",
       "current_month_debit                  0\n",
       "previous_month_debit                 0\n",
       "current_month_balance                0\n",
       "previous_month_balance               0\n",
       "churn                                0\n",
       "last_transaction                     0\n",
       "dtype: int64"
      ]
     },
     "execution_count": 61,
     "metadata": {},
     "output_type": "execute_result"
    }
   ],
   "source": [
    "#lets see the columns that have missing values\n",
    "df.isna().sum()"
   ]
  },
  {
   "cell_type": "markdown",
   "metadata": {},
   "source": [
    "For the missing values since the values have few missing values we will drop them the highest has 2463 "
   ]
  },
  {
   "cell_type": "code",
   "execution_count": 62,
   "metadata": {},
   "outputs": [],
   "source": [
    "#df.dropna(subset=['gender','occupation','city','dependents'],inplace=True)\n",
    "df.dropna(inplace=True)"
   ]
  },
  {
   "cell_type": "code",
   "execution_count": 63,
   "metadata": {},
   "outputs": [
    {
     "data": {
      "text/plain": [
       "customer_id                       0\n",
       "vintage                           0\n",
       "age                               0\n",
       "gender                            0\n",
       "dependents                        0\n",
       "occupation                        0\n",
       "city                              0\n",
       "customer_nw_category              0\n",
       "branch_code                       0\n",
       "current_balance                   0\n",
       "previous_month_end_balance        0\n",
       "average_monthly_balance_prevQ     0\n",
       "average_monthly_balance_prevQ2    0\n",
       "current_month_credit              0\n",
       "previous_month_credit             0\n",
       "current_month_debit               0\n",
       "previous_month_debit              0\n",
       "current_month_balance             0\n",
       "previous_month_balance            0\n",
       "churn                             0\n",
       "last_transaction                  0\n",
       "dtype: int64"
      ]
     },
     "execution_count": 63,
     "metadata": {},
     "output_type": "execute_result"
    }
   ],
   "source": [
    "#check if the missing values are gone for the three columns\n",
    "df.isna().sum()"
   ]
  },
  {
   "cell_type": "code",
   "execution_count": 64,
   "metadata": {
    "scrolled": true
   },
   "outputs": [
    {
     "data": {
      "text/html": [
       "<div>\n",
       "<style scoped>\n",
       "    .dataframe tbody tr th:only-of-type {\n",
       "        vertical-align: middle;\n",
       "    }\n",
       "\n",
       "    .dataframe tbody tr th {\n",
       "        vertical-align: top;\n",
       "    }\n",
       "\n",
       "    .dataframe thead th {\n",
       "        text-align: right;\n",
       "    }\n",
       "</style>\n",
       "<table border=\"1\" class=\"dataframe\">\n",
       "  <thead>\n",
       "    <tr style=\"text-align: right;\">\n",
       "      <th></th>\n",
       "      <th>customer_id</th>\n",
       "      <th>vintage</th>\n",
       "      <th>age</th>\n",
       "      <th>gender</th>\n",
       "      <th>dependents</th>\n",
       "      <th>occupation</th>\n",
       "      <th>city</th>\n",
       "      <th>customer_nw_category</th>\n",
       "      <th>branch_code</th>\n",
       "      <th>current_balance</th>\n",
       "      <th>...</th>\n",
       "      <th>average_monthly_balance_prevQ</th>\n",
       "      <th>average_monthly_balance_prevQ2</th>\n",
       "      <th>current_month_credit</th>\n",
       "      <th>previous_month_credit</th>\n",
       "      <th>current_month_debit</th>\n",
       "      <th>previous_month_debit</th>\n",
       "      <th>current_month_balance</th>\n",
       "      <th>previous_month_balance</th>\n",
       "      <th>churn</th>\n",
       "      <th>last_transaction</th>\n",
       "    </tr>\n",
       "  </thead>\n",
       "  <tbody>\n",
       "    <tr>\n",
       "      <th>0</th>\n",
       "      <td>1</td>\n",
       "      <td>2101</td>\n",
       "      <td>66</td>\n",
       "      <td>Male</td>\n",
       "      <td>0.0</td>\n",
       "      <td>self_employed</td>\n",
       "      <td>187.0</td>\n",
       "      <td>2</td>\n",
       "      <td>755</td>\n",
       "      <td>1458.71</td>\n",
       "      <td>...</td>\n",
       "      <td>1458.71</td>\n",
       "      <td>1449.07</td>\n",
       "      <td>0.20</td>\n",
       "      <td>0.20</td>\n",
       "      <td>0.20</td>\n",
       "      <td>0.20</td>\n",
       "      <td>1458.71</td>\n",
       "      <td>1458.71</td>\n",
       "      <td>0</td>\n",
       "      <td>2019-05-21</td>\n",
       "    </tr>\n",
       "    <tr>\n",
       "      <th>2</th>\n",
       "      <td>4</td>\n",
       "      <td>2194</td>\n",
       "      <td>31</td>\n",
       "      <td>Male</td>\n",
       "      <td>0.0</td>\n",
       "      <td>salaried</td>\n",
       "      <td>146.0</td>\n",
       "      <td>2</td>\n",
       "      <td>41</td>\n",
       "      <td>3913.16</td>\n",
       "      <td>...</td>\n",
       "      <td>4910.17</td>\n",
       "      <td>2815.94</td>\n",
       "      <td>0.61</td>\n",
       "      <td>0.61</td>\n",
       "      <td>6046.73</td>\n",
       "      <td>259.23</td>\n",
       "      <td>5006.28</td>\n",
       "      <td>5070.14</td>\n",
       "      <td>0</td>\n",
       "      <td>NaT</td>\n",
       "    </tr>\n",
       "    <tr>\n",
       "      <th>4</th>\n",
       "      <td>6</td>\n",
       "      <td>1579</td>\n",
       "      <td>42</td>\n",
       "      <td>Male</td>\n",
       "      <td>2.0</td>\n",
       "      <td>self_employed</td>\n",
       "      <td>1494.0</td>\n",
       "      <td>3</td>\n",
       "      <td>388</td>\n",
       "      <td>927.72</td>\n",
       "      <td>...</td>\n",
       "      <td>1643.31</td>\n",
       "      <td>1871.12</td>\n",
       "      <td>0.33</td>\n",
       "      <td>714.61</td>\n",
       "      <td>588.62</td>\n",
       "      <td>1538.06</td>\n",
       "      <td>1157.15</td>\n",
       "      <td>1677.16</td>\n",
       "      <td>1</td>\n",
       "      <td>2019-11-03</td>\n",
       "    </tr>\n",
       "    <tr>\n",
       "      <th>5</th>\n",
       "      <td>7</td>\n",
       "      <td>1923</td>\n",
       "      <td>42</td>\n",
       "      <td>Female</td>\n",
       "      <td>0.0</td>\n",
       "      <td>self_employed</td>\n",
       "      <td>1096.0</td>\n",
       "      <td>2</td>\n",
       "      <td>1666</td>\n",
       "      <td>15202.20</td>\n",
       "      <td>...</td>\n",
       "      <td>15211.29</td>\n",
       "      <td>13798.82</td>\n",
       "      <td>0.36</td>\n",
       "      <td>0.36</td>\n",
       "      <td>857.50</td>\n",
       "      <td>286.07</td>\n",
       "      <td>15719.44</td>\n",
       "      <td>15349.75</td>\n",
       "      <td>0</td>\n",
       "      <td>2019-11-01</td>\n",
       "    </tr>\n",
       "    <tr>\n",
       "      <th>6</th>\n",
       "      <td>8</td>\n",
       "      <td>2048</td>\n",
       "      <td>72</td>\n",
       "      <td>Male</td>\n",
       "      <td>0.0</td>\n",
       "      <td>retired</td>\n",
       "      <td>1020.0</td>\n",
       "      <td>1</td>\n",
       "      <td>1</td>\n",
       "      <td>7006.93</td>\n",
       "      <td>...</td>\n",
       "      <td>7859.74</td>\n",
       "      <td>11232.37</td>\n",
       "      <td>0.64</td>\n",
       "      <td>0.64</td>\n",
       "      <td>1299.64</td>\n",
       "      <td>439.26</td>\n",
       "      <td>7076.06</td>\n",
       "      <td>7755.98</td>\n",
       "      <td>0</td>\n",
       "      <td>2019-09-24</td>\n",
       "    </tr>\n",
       "  </tbody>\n",
       "</table>\n",
       "<p>5 rows × 21 columns</p>\n",
       "</div>"
      ],
      "text/plain": [
       "   customer_id  vintage  age  gender  dependents     occupation    city  \\\n",
       "0            1     2101   66    Male         0.0  self_employed   187.0   \n",
       "2            4     2194   31    Male         0.0       salaried   146.0   \n",
       "4            6     1579   42    Male         2.0  self_employed  1494.0   \n",
       "5            7     1923   42  Female         0.0  self_employed  1096.0   \n",
       "6            8     2048   72    Male         0.0        retired  1020.0   \n",
       "\n",
       "   customer_nw_category  branch_code  current_balance  ...  \\\n",
       "0                     2          755          1458.71  ...   \n",
       "2                     2           41          3913.16  ...   \n",
       "4                     3          388           927.72  ...   \n",
       "5                     2         1666         15202.20  ...   \n",
       "6                     1            1          7006.93  ...   \n",
       "\n",
       "   average_monthly_balance_prevQ  average_monthly_balance_prevQ2  \\\n",
       "0                        1458.71                         1449.07   \n",
       "2                        4910.17                         2815.94   \n",
       "4                        1643.31                         1871.12   \n",
       "5                       15211.29                        13798.82   \n",
       "6                        7859.74                        11232.37   \n",
       "\n",
       "   current_month_credit  previous_month_credit  current_month_debit  \\\n",
       "0                  0.20                   0.20                 0.20   \n",
       "2                  0.61                   0.61              6046.73   \n",
       "4                  0.33                 714.61               588.62   \n",
       "5                  0.36                   0.36               857.50   \n",
       "6                  0.64                   0.64              1299.64   \n",
       "\n",
       "   previous_month_debit  current_month_balance  previous_month_balance  churn  \\\n",
       "0                  0.20                1458.71                 1458.71      0   \n",
       "2                259.23                5006.28                 5070.14      0   \n",
       "4               1538.06                1157.15                 1677.16      1   \n",
       "5                286.07               15719.44                15349.75      0   \n",
       "6                439.26                7076.06                 7755.98      0   \n",
       "\n",
       "   last_transaction  \n",
       "0        2019-05-21  \n",
       "2               NaT  \n",
       "4        2019-11-03  \n",
       "5        2019-11-01  \n",
       "6        2019-09-24  \n",
       "\n",
       "[5 rows x 21 columns]"
      ]
     },
     "execution_count": 64,
     "metadata": {},
     "output_type": "execute_result"
    }
   ],
   "source": [
    "df.head()#we check if there is another column that still has missing values"
   ]
  },
  {
   "cell_type": "code",
   "execution_count": 65,
   "metadata": {},
   "outputs": [
    {
     "data": {
      "text/plain": [
       "0        66\n",
       "2        31\n",
       "4        42\n",
       "5        42\n",
       "6        72\n",
       "         ..\n",
       "28377    10\n",
       "28378    34\n",
       "28379    47\n",
       "28380    50\n",
       "28381    18\n",
       "Name: age, Length: 24832, dtype: int32"
      ]
     },
     "execution_count": 65,
     "metadata": {},
     "output_type": "execute_result"
    }
   ],
   "source": [
    "#change age to integer\n",
    "df['age'].astype(int)"
   ]
  },
  {
   "cell_type": "markdown",
   "metadata": {},
   "source": [
    "i noticed for the last transaction it had missing values and thats why it was not being detected so i had to convert to date time format and then drop the missing values since its 9.7% of the 28382 entries which is quite few "
   ]
  },
  {
   "cell_type": "code",
   "execution_count": 66,
   "metadata": {},
   "outputs": [
    {
     "data": {
      "text/html": [
       "<div>\n",
       "<style scoped>\n",
       "    .dataframe tbody tr th:only-of-type {\n",
       "        vertical-align: middle;\n",
       "    }\n",
       "\n",
       "    .dataframe tbody tr th {\n",
       "        vertical-align: top;\n",
       "    }\n",
       "\n",
       "    .dataframe thead th {\n",
       "        text-align: right;\n",
       "    }\n",
       "</style>\n",
       "<table border=\"1\" class=\"dataframe\">\n",
       "  <thead>\n",
       "    <tr style=\"text-align: right;\">\n",
       "      <th></th>\n",
       "      <th>customer_id</th>\n",
       "      <th>vintage</th>\n",
       "      <th>age</th>\n",
       "      <th>gender</th>\n",
       "      <th>dependents</th>\n",
       "      <th>occupation</th>\n",
       "      <th>city</th>\n",
       "      <th>customer_nw_category</th>\n",
       "      <th>branch_code</th>\n",
       "      <th>current_balance</th>\n",
       "      <th>...</th>\n",
       "      <th>average_monthly_balance_prevQ</th>\n",
       "      <th>average_monthly_balance_prevQ2</th>\n",
       "      <th>current_month_credit</th>\n",
       "      <th>previous_month_credit</th>\n",
       "      <th>current_month_debit</th>\n",
       "      <th>previous_month_debit</th>\n",
       "      <th>current_month_balance</th>\n",
       "      <th>previous_month_balance</th>\n",
       "      <th>churn</th>\n",
       "      <th>last_transaction</th>\n",
       "    </tr>\n",
       "  </thead>\n",
       "  <tbody>\n",
       "    <tr>\n",
       "      <th>0</th>\n",
       "      <td>1</td>\n",
       "      <td>2101</td>\n",
       "      <td>66</td>\n",
       "      <td>Male</td>\n",
       "      <td>0.0</td>\n",
       "      <td>self_employed</td>\n",
       "      <td>187.0</td>\n",
       "      <td>2</td>\n",
       "      <td>755</td>\n",
       "      <td>1458.71</td>\n",
       "      <td>...</td>\n",
       "      <td>1458.71</td>\n",
       "      <td>1449.07</td>\n",
       "      <td>0.20</td>\n",
       "      <td>0.20</td>\n",
       "      <td>0.20</td>\n",
       "      <td>0.20</td>\n",
       "      <td>1458.71</td>\n",
       "      <td>1458.71</td>\n",
       "      <td>0</td>\n",
       "      <td>2019-05-21</td>\n",
       "    </tr>\n",
       "    <tr>\n",
       "      <th>2</th>\n",
       "      <td>4</td>\n",
       "      <td>2194</td>\n",
       "      <td>31</td>\n",
       "      <td>Male</td>\n",
       "      <td>0.0</td>\n",
       "      <td>salaried</td>\n",
       "      <td>146.0</td>\n",
       "      <td>2</td>\n",
       "      <td>41</td>\n",
       "      <td>3913.16</td>\n",
       "      <td>...</td>\n",
       "      <td>4910.17</td>\n",
       "      <td>2815.94</td>\n",
       "      <td>0.61</td>\n",
       "      <td>0.61</td>\n",
       "      <td>6046.73</td>\n",
       "      <td>259.23</td>\n",
       "      <td>5006.28</td>\n",
       "      <td>5070.14</td>\n",
       "      <td>0</td>\n",
       "      <td>NaT</td>\n",
       "    </tr>\n",
       "    <tr>\n",
       "      <th>4</th>\n",
       "      <td>6</td>\n",
       "      <td>1579</td>\n",
       "      <td>42</td>\n",
       "      <td>Male</td>\n",
       "      <td>2.0</td>\n",
       "      <td>self_employed</td>\n",
       "      <td>1494.0</td>\n",
       "      <td>3</td>\n",
       "      <td>388</td>\n",
       "      <td>927.72</td>\n",
       "      <td>...</td>\n",
       "      <td>1643.31</td>\n",
       "      <td>1871.12</td>\n",
       "      <td>0.33</td>\n",
       "      <td>714.61</td>\n",
       "      <td>588.62</td>\n",
       "      <td>1538.06</td>\n",
       "      <td>1157.15</td>\n",
       "      <td>1677.16</td>\n",
       "      <td>1</td>\n",
       "      <td>2019-11-03</td>\n",
       "    </tr>\n",
       "    <tr>\n",
       "      <th>5</th>\n",
       "      <td>7</td>\n",
       "      <td>1923</td>\n",
       "      <td>42</td>\n",
       "      <td>Female</td>\n",
       "      <td>0.0</td>\n",
       "      <td>self_employed</td>\n",
       "      <td>1096.0</td>\n",
       "      <td>2</td>\n",
       "      <td>1666</td>\n",
       "      <td>15202.20</td>\n",
       "      <td>...</td>\n",
       "      <td>15211.29</td>\n",
       "      <td>13798.82</td>\n",
       "      <td>0.36</td>\n",
       "      <td>0.36</td>\n",
       "      <td>857.50</td>\n",
       "      <td>286.07</td>\n",
       "      <td>15719.44</td>\n",
       "      <td>15349.75</td>\n",
       "      <td>0</td>\n",
       "      <td>2019-11-01</td>\n",
       "    </tr>\n",
       "    <tr>\n",
       "      <th>6</th>\n",
       "      <td>8</td>\n",
       "      <td>2048</td>\n",
       "      <td>72</td>\n",
       "      <td>Male</td>\n",
       "      <td>0.0</td>\n",
       "      <td>retired</td>\n",
       "      <td>1020.0</td>\n",
       "      <td>1</td>\n",
       "      <td>1</td>\n",
       "      <td>7006.93</td>\n",
       "      <td>...</td>\n",
       "      <td>7859.74</td>\n",
       "      <td>11232.37</td>\n",
       "      <td>0.64</td>\n",
       "      <td>0.64</td>\n",
       "      <td>1299.64</td>\n",
       "      <td>439.26</td>\n",
       "      <td>7076.06</td>\n",
       "      <td>7755.98</td>\n",
       "      <td>0</td>\n",
       "      <td>2019-09-24</td>\n",
       "    </tr>\n",
       "  </tbody>\n",
       "</table>\n",
       "<p>5 rows × 21 columns</p>\n",
       "</div>"
      ],
      "text/plain": [
       "   customer_id  vintage  age  gender  dependents     occupation    city  \\\n",
       "0            1     2101   66    Male         0.0  self_employed   187.0   \n",
       "2            4     2194   31    Male         0.0       salaried   146.0   \n",
       "4            6     1579   42    Male         2.0  self_employed  1494.0   \n",
       "5            7     1923   42  Female         0.0  self_employed  1096.0   \n",
       "6            8     2048   72    Male         0.0        retired  1020.0   \n",
       "\n",
       "   customer_nw_category  branch_code  current_balance  ...  \\\n",
       "0                     2          755          1458.71  ...   \n",
       "2                     2           41          3913.16  ...   \n",
       "4                     3          388           927.72  ...   \n",
       "5                     2         1666         15202.20  ...   \n",
       "6                     1            1          7006.93  ...   \n",
       "\n",
       "   average_monthly_balance_prevQ  average_monthly_balance_prevQ2  \\\n",
       "0                        1458.71                         1449.07   \n",
       "2                        4910.17                         2815.94   \n",
       "4                        1643.31                         1871.12   \n",
       "5                       15211.29                        13798.82   \n",
       "6                        7859.74                        11232.37   \n",
       "\n",
       "   current_month_credit  previous_month_credit  current_month_debit  \\\n",
       "0                  0.20                   0.20                 0.20   \n",
       "2                  0.61                   0.61              6046.73   \n",
       "4                  0.33                 714.61               588.62   \n",
       "5                  0.36                   0.36               857.50   \n",
       "6                  0.64                   0.64              1299.64   \n",
       "\n",
       "   previous_month_debit  current_month_balance  previous_month_balance  churn  \\\n",
       "0                  0.20                1458.71                 1458.71      0   \n",
       "2                259.23                5006.28                 5070.14      0   \n",
       "4               1538.06                1157.15                 1677.16      1   \n",
       "5                286.07               15719.44                15349.75      0   \n",
       "6                439.26                7076.06                 7755.98      0   \n",
       "\n",
       "   last_transaction  \n",
       "0        2019-05-21  \n",
       "2               NaT  \n",
       "4        2019-11-03  \n",
       "5        2019-11-01  \n",
       "6        2019-09-24  \n",
       "\n",
       "[5 rows x 21 columns]"
      ]
     },
     "execution_count": 66,
     "metadata": {},
     "output_type": "execute_result"
    }
   ],
   "source": [
    "# we will try to convert the column to right date time we see if it will see the date time change\n",
    "df['last_transaction']=pd.to_datetime(df['last_transaction'],format='%Y/%m/%d')\n",
    "df.head()"
   ]
  },
  {
   "cell_type": "code",
   "execution_count": 67,
   "metadata": {},
   "outputs": [
    {
     "data": {
      "text/plain": [
       "2765"
      ]
     },
     "execution_count": 67,
     "metadata": {},
     "output_type": "execute_result"
    }
   ],
   "source": [
    "# we will check the missing values\n",
    "df['last_transaction'].isna().sum().sum()"
   ]
  },
  {
   "cell_type": "code",
   "execution_count": 68,
   "metadata": {},
   "outputs": [
    {
     "data": {
      "text/plain": [
       "array(['2019-05-21T00:00:00.000000000',                           'NaT',\n",
       "       '2019-11-03T00:00:00.000000000', '2019-11-01T00:00:00.000000000',\n",
       "       '2019-09-24T00:00:00.000000000', '2019-07-12T00:00:00.000000000',\n",
       "       '2019-12-12T00:00:00.000000000', '2019-12-31T00:00:00.000000000',\n",
       "       '2019-12-26T00:00:00.000000000', '2019-12-11T00:00:00.000000000',\n",
       "       '2019-11-14T00:00:00.000000000', '2019-03-03T00:00:00.000000000',\n",
       "       '2019-11-09T00:00:00.000000000', '2019-12-28T00:00:00.000000000',\n",
       "       '2019-10-23T00:00:00.000000000', '2019-11-30T00:00:00.000000000',\n",
       "       '2019-12-08T00:00:00.000000000', '2019-12-18T00:00:00.000000000',\n",
       "       '2019-12-27T00:00:00.000000000', '2019-12-22T00:00:00.000000000',\n",
       "       '2019-12-04T00:00:00.000000000', '2019-11-25T00:00:00.000000000',\n",
       "       '2019-08-28T00:00:00.000000000', '2019-10-15T00:00:00.000000000',\n",
       "       '2019-12-21T00:00:00.000000000', '2019-09-25T00:00:00.000000000',\n",
       "       '2019-12-05T00:00:00.000000000', '2019-09-22T00:00:00.000000000',\n",
       "       '2019-12-24T00:00:00.000000000', '2019-12-20T00:00:00.000000000',\n",
       "       '2019-07-24T00:00:00.000000000', '2019-12-17T00:00:00.000000000',\n",
       "       '2019-09-27T00:00:00.000000000', '2019-12-14T00:00:00.000000000',\n",
       "       '2019-09-06T00:00:00.000000000', '2019-10-16T00:00:00.000000000',\n",
       "       '2019-12-13T00:00:00.000000000', '2019-12-03T00:00:00.000000000',\n",
       "       '2019-12-06T00:00:00.000000000', '2019-07-11T00:00:00.000000000',\n",
       "       '2019-11-15T00:00:00.000000000', '2019-12-19T00:00:00.000000000',\n",
       "       '2019-12-25T00:00:00.000000000', '2019-08-15T00:00:00.000000000',\n",
       "       '2019-08-27T00:00:00.000000000', '2019-11-12T00:00:00.000000000',\n",
       "       '2019-05-15T00:00:00.000000000', '2019-11-16T00:00:00.000000000',\n",
       "       '2019-10-17T00:00:00.000000000', '2019-05-26T00:00:00.000000000',\n",
       "       '2019-10-22T00:00:00.000000000', '2019-12-01T00:00:00.000000000',\n",
       "       '2019-07-04T00:00:00.000000000', '2019-11-22T00:00:00.000000000',\n",
       "       '2019-06-26T00:00:00.000000000', '2019-10-11T00:00:00.000000000',\n",
       "       '2019-03-09T00:00:00.000000000', '2019-10-29T00:00:00.000000000',\n",
       "       '2019-07-10T00:00:00.000000000', '2019-09-26T00:00:00.000000000',\n",
       "       '2019-09-20T00:00:00.000000000', '2019-11-21T00:00:00.000000000',\n",
       "       '2019-07-20T00:00:00.000000000', '2019-09-12T00:00:00.000000000',\n",
       "       '2019-05-14T00:00:00.000000000', '2019-10-05T00:00:00.000000000',\n",
       "       '2019-11-26T00:00:00.000000000', '2019-10-06T00:00:00.000000000',\n",
       "       '2019-11-13T00:00:00.000000000', '2019-08-24T00:00:00.000000000',\n",
       "       '2019-10-31T00:00:00.000000000', '2019-06-09T00:00:00.000000000',\n",
       "       '2019-04-18T00:00:00.000000000', '2019-12-10T00:00:00.000000000',\n",
       "       '2019-08-21T00:00:00.000000000', '2019-06-05T00:00:00.000000000',\n",
       "       '2019-11-08T00:00:00.000000000', '2019-12-07T00:00:00.000000000',\n",
       "       '2019-08-18T00:00:00.000000000', '2019-08-04T00:00:00.000000000',\n",
       "       '2019-03-20T00:00:00.000000000', '2019-08-16T00:00:00.000000000',\n",
       "       '2019-07-16T00:00:00.000000000', '2019-09-14T00:00:00.000000000',\n",
       "       '2019-02-26T00:00:00.000000000', '2019-11-23T00:00:00.000000000',\n",
       "       '2019-05-18T00:00:00.000000000', '2019-11-06T00:00:00.000000000',\n",
       "       '2019-10-24T00:00:00.000000000', '2019-09-13T00:00:00.000000000',\n",
       "       '2019-09-04T00:00:00.000000000', '2019-01-08T00:00:00.000000000',\n",
       "       '2019-10-20T00:00:00.000000000', '2019-01-24T00:00:00.000000000',\n",
       "       '2019-09-19T00:00:00.000000000', '2019-06-14T00:00:00.000000000',\n",
       "       '2019-04-17T00:00:00.000000000', '2019-08-29T00:00:00.000000000',\n",
       "       '2019-10-30T00:00:00.000000000', '2019-11-05T00:00:00.000000000',\n",
       "       '2019-10-03T00:00:00.000000000', '2019-10-01T00:00:00.000000000',\n",
       "       '2019-08-07T00:00:00.000000000', '2019-11-17T00:00:00.000000000',\n",
       "       '2019-11-20T00:00:00.000000000', '2019-08-02T00:00:00.000000000',\n",
       "       '2019-08-30T00:00:00.000000000', '2019-10-07T00:00:00.000000000',\n",
       "       '2019-09-05T00:00:00.000000000', '2019-10-02T00:00:00.000000000',\n",
       "       '2019-09-07T00:00:00.000000000', '2019-12-02T00:00:00.000000000',\n",
       "       '2019-10-04T00:00:00.000000000', '2019-02-15T00:00:00.000000000',\n",
       "       '2019-02-27T00:00:00.000000000', '2019-10-13T00:00:00.000000000',\n",
       "       '2019-08-01T00:00:00.000000000', '2019-03-14T00:00:00.000000000',\n",
       "       '2019-07-17T00:00:00.000000000', '2019-05-08T00:00:00.000000000',\n",
       "       '2019-06-28T00:00:00.000000000', '2019-11-19T00:00:00.000000000',\n",
       "       '2019-12-15T00:00:00.000000000', '2019-10-19T00:00:00.000000000',\n",
       "       '2019-12-30T00:00:00.000000000', '2019-10-12T00:00:00.000000000',\n",
       "       '2019-07-21T00:00:00.000000000', '2019-07-22T00:00:00.000000000',\n",
       "       '2019-06-02T00:00:00.000000000', '2019-03-08T00:00:00.000000000',\n",
       "       '2019-09-03T00:00:00.000000000', '2019-05-12T00:00:00.000000000',\n",
       "       '2019-10-21T00:00:00.000000000', '2019-02-14T00:00:00.000000000',\n",
       "       '2019-11-28T00:00:00.000000000', '2019-02-21T00:00:00.000000000',\n",
       "       '2019-06-21T00:00:00.000000000', '2019-01-29T00:00:00.000000000',\n",
       "       '2019-06-27T00:00:00.000000000', '2019-07-06T00:00:00.000000000',\n",
       "       '2019-06-07T00:00:00.000000000', '2019-09-18T00:00:00.000000000',\n",
       "       '2019-07-25T00:00:00.000000000', '2019-08-26T00:00:00.000000000',\n",
       "       '2019-04-16T00:00:00.000000000', '2019-08-08T00:00:00.000000000',\n",
       "       '2019-03-06T00:00:00.000000000', '2019-11-29T00:00:00.000000000',\n",
       "       '2019-03-16T00:00:00.000000000', '2019-07-09T00:00:00.000000000',\n",
       "       '2019-10-09T00:00:00.000000000', '2019-12-16T00:00:00.000000000',\n",
       "       '2019-07-30T00:00:00.000000000', '2019-11-24T00:00:00.000000000',\n",
       "       '2019-04-19T00:00:00.000000000', '2019-04-07T00:00:00.000000000',\n",
       "       '2019-11-02T00:00:00.000000000', '2019-06-13T00:00:00.000000000',\n",
       "       '2019-11-18T00:00:00.000000000', '2019-12-09T00:00:00.000000000',\n",
       "       '2019-01-19T00:00:00.000000000', '2019-10-27T00:00:00.000000000',\n",
       "       '2019-03-22T00:00:00.000000000', '2019-06-22T00:00:00.000000000',\n",
       "       '2019-04-09T00:00:00.000000000', '2019-08-14T00:00:00.000000000',\n",
       "       '2019-08-09T00:00:00.000000000', '2019-02-05T00:00:00.000000000',\n",
       "       '2019-06-29T00:00:00.000000000', '2019-07-05T00:00:00.000000000',\n",
       "       '2019-04-28T00:00:00.000000000', '2019-01-15T00:00:00.000000000',\n",
       "       '2019-07-03T00:00:00.000000000', '2019-03-29T00:00:00.000000000',\n",
       "       '2019-08-17T00:00:00.000000000', '2019-07-13T00:00:00.000000000',\n",
       "       '2019-05-23T00:00:00.000000000', '2019-08-31T00:00:00.000000000',\n",
       "       '2019-09-08T00:00:00.000000000', '2019-05-25T00:00:00.000000000',\n",
       "       '2019-04-26T00:00:00.000000000', '2019-05-29T00:00:00.000000000',\n",
       "       '2019-08-20T00:00:00.000000000', '2019-05-11T00:00:00.000000000',\n",
       "       '2019-06-18T00:00:00.000000000', '2019-11-04T00:00:00.000000000',\n",
       "       '2019-07-02T00:00:00.000000000', '2019-01-18T00:00:00.000000000',\n",
       "       '2019-04-23T00:00:00.000000000', '2019-10-18T00:00:00.000000000',\n",
       "       '2019-01-02T00:00:00.000000000', '2019-02-02T00:00:00.000000000',\n",
       "       '2019-07-26T00:00:00.000000000', '2019-09-21T00:00:00.000000000',\n",
       "       '2019-05-09T00:00:00.000000000', '2019-07-31T00:00:00.000000000',\n",
       "       '2019-03-01T00:00:00.000000000', '2019-11-27T00:00:00.000000000',\n",
       "       '2019-05-01T00:00:00.000000000', '2019-05-17T00:00:00.000000000',\n",
       "       '2019-09-11T00:00:00.000000000', '2019-10-25T00:00:00.000000000',\n",
       "       '2019-11-07T00:00:00.000000000', '2019-05-30T00:00:00.000000000',\n",
       "       '2019-09-17T00:00:00.000000000', '2019-06-04T00:00:00.000000000',\n",
       "       '2019-12-23T00:00:00.000000000', '2019-05-07T00:00:00.000000000',\n",
       "       '2019-04-20T00:00:00.000000000', '2019-02-23T00:00:00.000000000',\n",
       "       '2019-04-03T00:00:00.000000000', '2019-09-28T00:00:00.000000000',\n",
       "       '2019-03-05T00:00:00.000000000', '2019-01-30T00:00:00.000000000',\n",
       "       '2019-01-26T00:00:00.000000000', '2019-02-04T00:00:00.000000000',\n",
       "       '2019-03-19T00:00:00.000000000', '2019-06-08T00:00:00.000000000',\n",
       "       '2019-04-04T00:00:00.000000000', '2019-06-25T00:00:00.000000000',\n",
       "       '2019-07-18T00:00:00.000000000', '2019-08-13T00:00:00.000000000',\n",
       "       '2019-08-22T00:00:00.000000000', '2019-04-27T00:00:00.000000000',\n",
       "       '2019-06-30T00:00:00.000000000', '2019-01-04T00:00:00.000000000',\n",
       "       '2019-06-01T00:00:00.000000000', '2019-10-08T00:00:00.000000000',\n",
       "       '2018-12-31T00:00:00.000000000', '2019-04-02T00:00:00.000000000',\n",
       "       '2019-08-10T00:00:00.000000000', '2019-06-23T00:00:00.000000000',\n",
       "       '2019-01-23T00:00:00.000000000', '2019-09-01T00:00:00.000000000',\n",
       "       '2019-02-17T00:00:00.000000000', '2019-03-23T00:00:00.000000000',\n",
       "       '2019-12-29T00:00:00.000000000', '2019-09-15T00:00:00.000000000',\n",
       "       '2019-06-20T00:00:00.000000000', '2019-04-06T00:00:00.000000000',\n",
       "       '2019-07-28T00:00:00.000000000', '2019-09-10T00:00:00.000000000',\n",
       "       '2019-03-30T00:00:00.000000000', '2019-05-24T00:00:00.000000000',\n",
       "       '2019-07-19T00:00:00.000000000', '2019-01-22T00:00:00.000000000',\n",
       "       '2019-03-26T00:00:00.000000000', '2019-04-12T00:00:00.000000000',\n",
       "       '2019-03-28T00:00:00.000000000', '2019-06-19T00:00:00.000000000',\n",
       "       '2019-11-11T00:00:00.000000000', '2019-03-27T00:00:00.000000000',\n",
       "       '2019-05-16T00:00:00.000000000', '2019-06-12T00:00:00.000000000',\n",
       "       '2019-01-06T00:00:00.000000000', '2019-02-16T00:00:00.000000000',\n",
       "       '2019-04-24T00:00:00.000000000', '2019-02-20T00:00:00.000000000',\n",
       "       '2019-05-05T00:00:00.000000000', '2019-01-16T00:00:00.000000000',\n",
       "       '2019-11-10T00:00:00.000000000', '2019-03-13T00:00:00.000000000',\n",
       "       '2019-05-31T00:00:00.000000000', '2019-02-25T00:00:00.000000000',\n",
       "       '2019-04-21T00:00:00.000000000', '2019-05-04T00:00:00.000000000',\n",
       "       '2019-07-27T00:00:00.000000000', '2019-04-30T00:00:00.000000000',\n",
       "       '2019-02-24T00:00:00.000000000', '2019-07-23T00:00:00.000000000',\n",
       "       '2019-09-09T00:00:00.000000000', '2019-09-23T00:00:00.000000000',\n",
       "       '2019-03-07T00:00:00.000000000', '2019-03-15T00:00:00.000000000',\n",
       "       '2019-06-11T00:00:00.000000000', '2019-08-06T00:00:00.000000000',\n",
       "       '2019-07-07T00:00:00.000000000', '2019-02-12T00:00:00.000000000',\n",
       "       '2019-04-25T00:00:00.000000000', '2019-04-11T00:00:00.000000000',\n",
       "       '2019-06-15T00:00:00.000000000', '2019-06-06T00:00:00.000000000',\n",
       "       '2019-01-13T00:00:00.000000000', '2019-04-15T00:00:00.000000000',\n",
       "       '2019-04-05T00:00:00.000000000', '2019-02-01T00:00:00.000000000',\n",
       "       '2019-05-02T00:00:00.000000000', '2019-04-08T00:00:00.000000000',\n",
       "       '2019-03-10T00:00:00.000000000', '2019-02-10T00:00:00.000000000',\n",
       "       '2019-07-01T00:00:00.000000000', '2019-04-13T00:00:00.000000000',\n",
       "       '2019-05-28T00:00:00.000000000', '2019-08-23T00:00:00.000000000',\n",
       "       '2019-03-12T00:00:00.000000000', '2019-03-21T00:00:00.000000000',\n",
       "       '2019-05-22T00:00:00.000000000', '2019-03-02T00:00:00.000000000',\n",
       "       '2019-01-25T00:00:00.000000000', '2019-02-08T00:00:00.000000000',\n",
       "       '2019-09-30T00:00:00.000000000', '2019-03-11T00:00:00.000000000',\n",
       "       '2019-02-03T00:00:00.000000000', '2019-01-03T00:00:00.000000000',\n",
       "       '2019-03-17T00:00:00.000000000', '2019-04-10T00:00:00.000000000',\n",
       "       '2019-01-27T00:00:00.000000000', '2019-02-22T00:00:00.000000000',\n",
       "       '2019-02-09T00:00:00.000000000', '2019-01-10T00:00:00.000000000',\n",
       "       '2019-02-07T00:00:00.000000000', '2019-01-09T00:00:00.000000000',\n",
       "       '2019-03-24T00:00:00.000000000', '2019-09-29T00:00:00.000000000',\n",
       "       '2019-05-03T00:00:00.000000000', '2019-10-14T00:00:00.000000000',\n",
       "       '2019-08-05T00:00:00.000000000', '2019-08-03T00:00:00.000000000',\n",
       "       '2019-06-16T00:00:00.000000000', '2019-09-16T00:00:00.000000000',\n",
       "       '2019-10-26T00:00:00.000000000', '2019-01-20T00:00:00.000000000',\n",
       "       '2019-05-10T00:00:00.000000000', '2019-05-19T00:00:00.000000000',\n",
       "       '2019-05-06T00:00:00.000000000', '2019-01-12T00:00:00.000000000',\n",
       "       '2019-01-11T00:00:00.000000000', '2019-02-28T00:00:00.000000000',\n",
       "       '2019-09-02T00:00:00.000000000', '2019-01-21T00:00:00.000000000',\n",
       "       '2019-07-29T00:00:00.000000000', '2019-01-28T00:00:00.000000000',\n",
       "       '2019-01-05T00:00:00.000000000', '2019-04-01T00:00:00.000000000',\n",
       "       '2019-04-29T00:00:00.000000000', '2019-02-06T00:00:00.000000000',\n",
       "       '2019-03-18T00:00:00.000000000', '2019-06-24T00:00:00.000000000',\n",
       "       '2019-04-14T00:00:00.000000000', '2019-10-28T00:00:00.000000000',\n",
       "       '2019-02-19T00:00:00.000000000', '2019-01-17T00:00:00.000000000',\n",
       "       '2019-08-12T00:00:00.000000000', '2019-01-01T00:00:00.000000000',\n",
       "       '2019-03-31T00:00:00.000000000', '2019-08-19T00:00:00.000000000',\n",
       "       '2019-06-17T00:00:00.000000000', '2019-07-08T00:00:00.000000000',\n",
       "       '2019-05-27T00:00:00.000000000', '2019-06-03T00:00:00.000000000',\n",
       "       '2019-10-10T00:00:00.000000000', '2019-02-11T00:00:00.000000000',\n",
       "       '2019-01-14T00:00:00.000000000', '2019-02-13T00:00:00.000000000',\n",
       "       '2019-03-04T00:00:00.000000000', '2019-07-14T00:00:00.000000000',\n",
       "       '2019-08-25T00:00:00.000000000', '2019-07-15T00:00:00.000000000'],\n",
       "      dtype='datetime64[ns]')"
      ]
     },
     "execution_count": 68,
     "metadata": {},
     "output_type": "execute_result"
    }
   ],
   "source": [
    "df['last_transaction'].unique()"
   ]
  },
  {
   "cell_type": "code",
   "execution_count": 69,
   "metadata": {},
   "outputs": [],
   "source": [
    "df.dropna(subset=['last_transaction'],inplace=True)"
   ]
  },
  {
   "cell_type": "code",
   "execution_count": 70,
   "metadata": {},
   "outputs": [
    {
     "data": {
      "text/plain": [
       "0"
      ]
     },
     "execution_count": 70,
     "metadata": {},
     "output_type": "execute_result"
    }
   ],
   "source": [
    "df['last_transaction'].isna().sum().sum()#the null values in the last_transaction are now gone"
   ]
  },
  {
   "cell_type": "markdown",
   "metadata": {},
   "source": [
    "Next step is checking for duplicates"
   ]
  },
  {
   "cell_type": "code",
   "execution_count": 71,
   "metadata": {},
   "outputs": [
    {
     "data": {
      "text/plain": [
       "0"
      ]
     },
     "execution_count": 71,
     "metadata": {},
     "output_type": "execute_result"
    }
   ],
   "source": [
    "df.duplicated().sum()# no duplicates present"
   ]
  },
  {
   "cell_type": "markdown",
   "metadata": {},
   "source": [
    "Next step checking for outliers"
   ]
  },
  {
   "cell_type": "code",
   "execution_count": 72,
   "metadata": {},
   "outputs": [
    {
     "data": {
      "image/png": "[encoded data removed]",
      "text/plain": [
       "<Figure size 1080x576 with 1 Axes>"
      ]
     },
     "metadata": {
      "needs_background": "light"
     },
     "output_type": "display_data"
    }
   ],
   "source": [
    "df.select_dtypes(include='number').boxplot(figsize=(15,8),vert=False)\n",
    "plt.title(\"Boxplots of numeric features\",fontsize=20)\n",
    "plt.tight_layout()\n",
    "plt.show()\n",
    "        "
   ]
  },
  {
   "cell_type": "markdown",
   "metadata": {},
   "source": [
    "As you can see majority here have outliers so i will try to remove the outliers so as to prevent biasness in the dataset"
   ]
  },
  {
   "cell_type": "code",
   "execution_count": 73,
   "metadata": {},
   "outputs": [],
   "source": [
    "def outliers(df,col):\n",
    "    upper_limit=df[col].mean() +3 *df[col].std()\n",
    "    lower_limit=df[col].mean()-3 * df[col].std()\n",
    "#create a list that will store the index of the outliers\n",
    "    #ls=df.index[(df[cols] <lower_limit) | (df[cols] >upper_limit)]\n",
    "    ls= df[(df[col] < lower_limit) | (df[col] > upper_limit)].index.tolist()\n",
    "\n",
    "    return ls"
   ]
  },
  {
   "cell_type": "code",
   "execution_count": 74,
   "metadata": {},
   "outputs": [],
   "source": [
    "index_list=[]\n",
    "\n",
    "columns = ['current_balance', 'average_monthly_balance_prevQ',\n",
    "           'average_monthly_balance_prevQ2', 'current_month_credit',\n",
    "           'previous_month_credit', 'current_month_debit',\n",
    "           'previous_month_debit', 'current_month_balance',\n",
    "           'previous_month_balance']\n",
    "for col in columns:\n",
    "    index_list.extend(outliers(df,col))\n",
    "    index_list=list(set(index_list))"
   ]
  },
  {
   "cell_type": "code",
   "execution_count": 75,
   "metadata": {},
   "outputs": [],
   "source": [
    "df_cleaned=df.drop(index=index_list)"
   ]
  },
  {
   "cell_type": "code",
   "execution_count": 76,
   "metadata": {},
   "outputs": [],
   "source": [
    "df_cleaned=df"
   ]
  },
  {
   "cell_type": "markdown",
   "metadata": {},
   "source": [
    "<h4 style=\"font-size:36px;\">EXPLORATIVE DATA ANALYSIS</h4>\n",
    "<ol>\n",
    "<li>check relationships between different features</li>\n",
    "<li>check for correlation among features and drop if necessary</li>\n",
    "<li>check for  distribution between churners and non churners</li>\n",
    "</ol>"
   ]
  },
  {
   "cell_type": "markdown",
   "metadata": {},
   "source": [
    "step1:<h7>Univariate Analysis</h7>"
   ]
  },
  {
   "cell_type": "code",
   "execution_count": 77,
   "metadata": {},
   "outputs": [
    {
     "data": {
      "text/plain": [
       "0    17793\n",
       "1     4274\n",
       "Name: churn, dtype: int64"
      ]
     },
     "execution_count": 77,
     "metadata": {},
     "output_type": "execute_result"
    }
   ],
   "source": [
    "#check distribution between churners and non churners we see if they are equal or not\n",
    "df['churn'].value_counts()\n",
    "# as you can see we have an imbalanced dataset where we have more non churners than  churners we will handle that later in the code"
   ]
  },
  {
   "cell_type": "code",
   "execution_count": 78,
   "metadata": {},
   "outputs": [
    {
     "data": {
      "image/png": "[encoded data removed]",
      "text/plain": [
       "<Figure size 1440x864 with 16 Axes>"
      ]
     },
     "metadata": {
      "needs_background": "light"
     },
     "output_type": "display_data"
    }
   ],
   "source": [
    "#For the numerical variables we will use histograms to check for skewness\n",
    "exclude_columns=['customer_id','branch_code','churn','city']\n",
    "columns=df.select_dtypes(include='number').drop(columns=exclude_columns)\n",
    "columns.hist(figsize=(20,12),bins=10,edgecolor='black',grid=False)\n",
    "plt.title(\"histogram of numeric features\",fontsize=20)\n",
    "plt.show()"
   ]
  },
  {
   "cell_type": "markdown",
   "metadata": {},
   "source": [
    "The graph interpretation:   \n",
    "Most of the graphs except vintage are rightly skewed for age is almost symmetrical so we have to scale,handle imbalance,one hot encode for categorical columns in the feature engineering stage"
   ]
  },
  {
   "cell_type": "markdown",
   "metadata": {},
   "source": [
    "<H4>Bivariate Analysis Using One Graph</H4>\n",
    "Here its giving us insights how churn is distributed in various columns the ones with boxplots are numerical the ones with counter plot are the once in categorical we have also done some feature engineering so that we can get the credit change,debit change how is the balance and how many days did the client take before doing another transaction at the end of the graph i will in detail explain the findings\n",
    "NOTE:this interpration before scaling and handling imbalance\n"
   ]
  },
  {
   "cell_type": "code",
   "execution_count": 79,
   "metadata": {},
   "outputs": [],
   "source": [
    "# Preprocessing for derived columns\n",
    "df['credit_change'] = df['current_month_credit'] - df['previous_month_credit']\n",
    "df['debit_change'] = df['current_month_debit'] - df['previous_month_debit']\n",
    "df['balance_change'] = df['current_balance'] - df['previous_month_end_balance']\n",
    "df['last_transaction'] = pd.to_datetime(df['last_transaction'])\n",
    "df['days_since_last_transaction'] = (df['last_transaction'].max() - df['last_transaction']).dt.days"
   ]
  },
  {
   "cell_type": "code",
   "execution_count": null,
   "metadata": {},
   "outputs": [],
   "source": []
  },
  {
   "cell_type": "markdown",
   "metadata": {},
   "source": [
    "<h5>Graph Interpration</h5>\n",
    "<ol>\n",
    "<li>Age vs churn>\n",
    "churners(1) tend to be slighly younger than non churners(0)\n",
    "here the median age of churners is lower\n",
    "conclusion:Younger aged clients are the likely to churn since they may be slightly younger on average\n",
    "</li>    \n",
    "<li>Vintage vs churn>\n",
    "the vintage refers to how long the client has stayed in the bank and this case the churned customers is significantly lower than the retained ones\n",
    "conclusion:newer customers are more prone to churn the once who have stayed longer\n",
    "</li>\n",
    "<li>dependents vs churn>\n",
    "most clients have dependents between 0-2 dependents especially in the churn category\n",
    "the clients with more dependents are fewer and less likely to churn\n",
    "</li>\n",
    "<li>Net worth category vs churn>\n",
    "The majority of clients or the non churners are in the second category,but when it comes to higher churn ratio which are the low net worth are the ones likely to churn\n",
    "</li>\n",
    " <li>Occupation vs churn>\n",
    "Salaried and self employed are the most common\n",
    "self employed clients show high churn while retired and student clients show few churn\n",
    "</li>\n",
    "<li>current Balance vs churn>\n",
    "churners seem to have lower current balance\n",
    "</li>\n",
    "<li>Credit change vs churn>\n",
    "First there is high fluctuations in credit exist for both and we have to normalize due to skewness but there is no strong relationship between credit changes and churn\n",
    "</li>\n",
    "<li>Age vs balance change>\n",
    "there is a weak positive correlation between the two \n",
    "</li>\n",
    "<li>Days since last transaction vs churn>\n",
    "The longer the last transation the more signs of inactivity and this might cause churn\n",
    "</li>"
   ]
  },
  {
   "cell_type": "markdown",
   "metadata": {},
   "source": [
    "<h3>Objective 1:Which features most influence whether a client will churn or not at Blue-Valley Bank</h3>\n",
    "<ol>\n",
    "    <li>i will start with logistic regression for interpretability</li>\n",
    "    <li>i will then add decision tree classifier to capture non linear effects and interactions</li>\n",
    "    <li>i will the compare top features from both models to cross-validate insights</li>\n",
    "    </ol>\n",
    "we will use this two models to actually help us capture the features or columns that influence churn\n"
   ]
  },
  {
   "cell_type": "markdown",
   "metadata": {},
   "source": [
    "<h4>Model Preprocessing</h4>\n",
    "<ol>\n",
    "<li>one hot encode for categorical features</li>\n",
    "<li>Normalize numerical features </li>\n",
    "    <li>Use Smote for imbalance</li>\n",
    "</ol>"
   ]
  },
  {
   "cell_type": "markdown",
   "metadata": {},
   "source": [
    "step1:preprocess the data by first one hot encoding and normalizing numerical values"
   ]
  },
  {
   "cell_type": "code",
   "execution_count": 80,
   "metadata": {},
   "outputs": [
    {
     "data": {
      "text/html": [
       "<div>\n",
       "<style scoped>\n",
       "    .dataframe tbody tr th:only-of-type {\n",
       "        vertical-align: middle;\n",
       "    }\n",
       "\n",
       "    .dataframe tbody tr th {\n",
       "        vertical-align: top;\n",
       "    }\n",
       "\n",
       "    .dataframe thead th {\n",
       "        text-align: right;\n",
       "    }\n",
       "</style>\n",
       "<table border=\"1\" class=\"dataframe\">\n",
       "  <thead>\n",
       "    <tr style=\"text-align: right;\">\n",
       "      <th></th>\n",
       "      <th>customer_id</th>\n",
       "      <th>vintage</th>\n",
       "      <th>age</th>\n",
       "      <th>dependents</th>\n",
       "      <th>city</th>\n",
       "      <th>customer_nw_category</th>\n",
       "      <th>branch_code</th>\n",
       "      <th>current_balance</th>\n",
       "      <th>previous_month_end_balance</th>\n",
       "      <th>average_monthly_balance_prevQ</th>\n",
       "      <th>...</th>\n",
       "      <th>last_transaction</th>\n",
       "      <th>credit_change</th>\n",
       "      <th>debit_change</th>\n",
       "      <th>balance_change</th>\n",
       "      <th>days_since_last_transaction</th>\n",
       "      <th>occupation_retired</th>\n",
       "      <th>occupation_salaried</th>\n",
       "      <th>occupation_self_employed</th>\n",
       "      <th>occupation_student</th>\n",
       "      <th>gender_Male</th>\n",
       "    </tr>\n",
       "  </thead>\n",
       "  <tbody>\n",
       "    <tr>\n",
       "      <th>0</th>\n",
       "      <td>1</td>\n",
       "      <td>2101</td>\n",
       "      <td>66</td>\n",
       "      <td>0.0</td>\n",
       "      <td>187.0</td>\n",
       "      <td>2</td>\n",
       "      <td>755</td>\n",
       "      <td>1458.71</td>\n",
       "      <td>1458.71</td>\n",
       "      <td>1458.71</td>\n",
       "      <td>...</td>\n",
       "      <td>2019-05-21</td>\n",
       "      <td>0.00</td>\n",
       "      <td>0.00</td>\n",
       "      <td>0.00</td>\n",
       "      <td>224</td>\n",
       "      <td>0</td>\n",
       "      <td>0</td>\n",
       "      <td>1</td>\n",
       "      <td>0</td>\n",
       "      <td>1</td>\n",
       "    </tr>\n",
       "    <tr>\n",
       "      <th>4</th>\n",
       "      <td>6</td>\n",
       "      <td>1579</td>\n",
       "      <td>42</td>\n",
       "      <td>2.0</td>\n",
       "      <td>1494.0</td>\n",
       "      <td>3</td>\n",
       "      <td>388</td>\n",
       "      <td>927.72</td>\n",
       "      <td>1401.72</td>\n",
       "      <td>1643.31</td>\n",
       "      <td>...</td>\n",
       "      <td>2019-11-03</td>\n",
       "      <td>-714.28</td>\n",
       "      <td>-949.44</td>\n",
       "      <td>-474.00</td>\n",
       "      <td>58</td>\n",
       "      <td>0</td>\n",
       "      <td>0</td>\n",
       "      <td>1</td>\n",
       "      <td>0</td>\n",
       "      <td>1</td>\n",
       "    </tr>\n",
       "    <tr>\n",
       "      <th>5</th>\n",
       "      <td>7</td>\n",
       "      <td>1923</td>\n",
       "      <td>42</td>\n",
       "      <td>0.0</td>\n",
       "      <td>1096.0</td>\n",
       "      <td>2</td>\n",
       "      <td>1666</td>\n",
       "      <td>15202.20</td>\n",
       "      <td>16059.34</td>\n",
       "      <td>15211.29</td>\n",
       "      <td>...</td>\n",
       "      <td>2019-11-01</td>\n",
       "      <td>0.00</td>\n",
       "      <td>571.43</td>\n",
       "      <td>-857.14</td>\n",
       "      <td>60</td>\n",
       "      <td>0</td>\n",
       "      <td>0</td>\n",
       "      <td>1</td>\n",
       "      <td>0</td>\n",
       "      <td>0</td>\n",
       "    </tr>\n",
       "    <tr>\n",
       "      <th>6</th>\n",
       "      <td>8</td>\n",
       "      <td>2048</td>\n",
       "      <td>72</td>\n",
       "      <td>0.0</td>\n",
       "      <td>1020.0</td>\n",
       "      <td>1</td>\n",
       "      <td>1</td>\n",
       "      <td>7006.93</td>\n",
       "      <td>7714.19</td>\n",
       "      <td>7859.74</td>\n",
       "      <td>...</td>\n",
       "      <td>2019-09-24</td>\n",
       "      <td>0.00</td>\n",
       "      <td>860.38</td>\n",
       "      <td>-707.26</td>\n",
       "      <td>98</td>\n",
       "      <td>1</td>\n",
       "      <td>0</td>\n",
       "      <td>0</td>\n",
       "      <td>0</td>\n",
       "      <td>1</td>\n",
       "    </tr>\n",
       "    <tr>\n",
       "      <th>7</th>\n",
       "      <td>9</td>\n",
       "      <td>2009</td>\n",
       "      <td>46</td>\n",
       "      <td>0.0</td>\n",
       "      <td>623.0</td>\n",
       "      <td>2</td>\n",
       "      <td>317</td>\n",
       "      <td>10096.58</td>\n",
       "      <td>8519.53</td>\n",
       "      <td>6511.82</td>\n",
       "      <td>...</td>\n",
       "      <td>2019-07-12</td>\n",
       "      <td>0.00</td>\n",
       "      <td>-5245.31</td>\n",
       "      <td>1577.05</td>\n",
       "      <td>172</td>\n",
       "      <td>0</td>\n",
       "      <td>0</td>\n",
       "      <td>1</td>\n",
       "      <td>0</td>\n",
       "      <td>1</td>\n",
       "    </tr>\n",
       "    <tr>\n",
       "      <th>...</th>\n",
       "      <td>...</td>\n",
       "      <td>...</td>\n",
       "      <td>...</td>\n",
       "      <td>...</td>\n",
       "      <td>...</td>\n",
       "      <td>...</td>\n",
       "      <td>...</td>\n",
       "      <td>...</td>\n",
       "      <td>...</td>\n",
       "      <td>...</td>\n",
       "      <td>...</td>\n",
       "      <td>...</td>\n",
       "      <td>...</td>\n",
       "      <td>...</td>\n",
       "      <td>...</td>\n",
       "      <td>...</td>\n",
       "      <td>...</td>\n",
       "      <td>...</td>\n",
       "      <td>...</td>\n",
       "      <td>...</td>\n",
       "      <td>...</td>\n",
       "    </tr>\n",
       "    <tr>\n",
       "      <th>28375</th>\n",
       "      <td>30295</td>\n",
       "      <td>2398</td>\n",
       "      <td>42</td>\n",
       "      <td>0.0</td>\n",
       "      <td>146.0</td>\n",
       "      <td>2</td>\n",
       "      <td>286</td>\n",
       "      <td>7493.69</td>\n",
       "      <td>6777.41</td>\n",
       "      <td>8082.48</td>\n",
       "      <td>...</td>\n",
       "      <td>2019-11-04</td>\n",
       "      <td>-89.59</td>\n",
       "      <td>-79.84</td>\n",
       "      <td>716.28</td>\n",
       "      <td>57</td>\n",
       "      <td>0</td>\n",
       "      <td>0</td>\n",
       "      <td>1</td>\n",
       "      <td>0</td>\n",
       "      <td>1</td>\n",
       "    </tr>\n",
       "    <tr>\n",
       "      <th>28377</th>\n",
       "      <td>30297</td>\n",
       "      <td>2325</td>\n",
       "      <td>10</td>\n",
       "      <td>0.0</td>\n",
       "      <td>1020.0</td>\n",
       "      <td>2</td>\n",
       "      <td>1207</td>\n",
       "      <td>1076.43</td>\n",
       "      <td>1076.43</td>\n",
       "      <td>2282.19</td>\n",
       "      <td>...</td>\n",
       "      <td>2019-10-22</td>\n",
       "      <td>0.00</td>\n",
       "      <td>0.00</td>\n",
       "      <td>0.00</td>\n",
       "      <td>70</td>\n",
       "      <td>0</td>\n",
       "      <td>0</td>\n",
       "      <td>0</td>\n",
       "      <td>1</td>\n",
       "      <td>0</td>\n",
       "    </tr>\n",
       "    <tr>\n",
       "      <th>28378</th>\n",
       "      <td>30298</td>\n",
       "      <td>1537</td>\n",
       "      <td>34</td>\n",
       "      <td>0.0</td>\n",
       "      <td>1046.0</td>\n",
       "      <td>2</td>\n",
       "      <td>223</td>\n",
       "      <td>3844.10</td>\n",
       "      <td>4069.21</td>\n",
       "      <td>3668.83</td>\n",
       "      <td>...</td>\n",
       "      <td>2019-12-17</td>\n",
       "      <td>-0.58</td>\n",
       "      <td>-113.07</td>\n",
       "      <td>-225.11</td>\n",
       "      <td>14</td>\n",
       "      <td>0</td>\n",
       "      <td>0</td>\n",
       "      <td>1</td>\n",
       "      <td>0</td>\n",
       "      <td>0</td>\n",
       "    </tr>\n",
       "    <tr>\n",
       "      <th>28379</th>\n",
       "      <td>30299</td>\n",
       "      <td>2376</td>\n",
       "      <td>47</td>\n",
       "      <td>0.0</td>\n",
       "      <td>1096.0</td>\n",
       "      <td>2</td>\n",
       "      <td>588</td>\n",
       "      <td>65511.97</td>\n",
       "      <td>61017.55</td>\n",
       "      <td>53444.81</td>\n",
       "      <td>...</td>\n",
       "      <td>2019-12-31</td>\n",
       "      <td>783.78</td>\n",
       "      <td>96.43</td>\n",
       "      <td>4494.42</td>\n",
       "      <td>0</td>\n",
       "      <td>0</td>\n",
       "      <td>1</td>\n",
       "      <td>0</td>\n",
       "      <td>0</td>\n",
       "      <td>1</td>\n",
       "    </tr>\n",
       "    <tr>\n",
       "      <th>28381</th>\n",
       "      <td>30301</td>\n",
       "      <td>1175</td>\n",
       "      <td>18</td>\n",
       "      <td>0.0</td>\n",
       "      <td>1232.0</td>\n",
       "      <td>2</td>\n",
       "      <td>474</td>\n",
       "      <td>2107.05</td>\n",
       "      <td>2821.34</td>\n",
       "      <td>3213.44</td>\n",
       "      <td>...</td>\n",
       "      <td>2019-11-02</td>\n",
       "      <td>-7.33</td>\n",
       "      <td>-379.69</td>\n",
       "      <td>-714.29</td>\n",
       "      <td>59</td>\n",
       "      <td>0</td>\n",
       "      <td>0</td>\n",
       "      <td>0</td>\n",
       "      <td>1</td>\n",
       "      <td>1</td>\n",
       "    </tr>\n",
       "  </tbody>\n",
       "</table>\n",
       "<p>22067 rows × 28 columns</p>\n",
       "</div>"
      ],
      "text/plain": [
       "       customer_id  vintage  age  dependents    city  customer_nw_category  \\\n",
       "0                1     2101   66         0.0   187.0                     2   \n",
       "4                6     1579   42         2.0  1494.0                     3   \n",
       "5                7     1923   42         0.0  1096.0                     2   \n",
       "6                8     2048   72         0.0  1020.0                     1   \n",
       "7                9     2009   46         0.0   623.0                     2   \n",
       "...            ...      ...  ...         ...     ...                   ...   \n",
       "28375        30295     2398   42         0.0   146.0                     2   \n",
       "28377        30297     2325   10         0.0  1020.0                     2   \n",
       "28378        30298     1537   34         0.0  1046.0                     2   \n",
       "28379        30299     2376   47         0.0  1096.0                     2   \n",
       "28381        30301     1175   18         0.0  1232.0                     2   \n",
       "\n",
       "       branch_code  current_balance  previous_month_end_balance  \\\n",
       "0              755          1458.71                     1458.71   \n",
       "4              388           927.72                     1401.72   \n",
       "5             1666         15202.20                    16059.34   \n",
       "6                1          7006.93                     7714.19   \n",
       "7              317         10096.58                     8519.53   \n",
       "...            ...              ...                         ...   \n",
       "28375          286          7493.69                     6777.41   \n",
       "28377         1207          1076.43                     1076.43   \n",
       "28378          223          3844.10                     4069.21   \n",
       "28379          588         65511.97                    61017.55   \n",
       "28381          474          2107.05                     2821.34   \n",
       "\n",
       "       average_monthly_balance_prevQ  ...  last_transaction  credit_change  \\\n",
       "0                            1458.71  ...        2019-05-21           0.00   \n",
       "4                            1643.31  ...        2019-11-03        -714.28   \n",
       "5                           15211.29  ...        2019-11-01           0.00   \n",
       "6                            7859.74  ...        2019-09-24           0.00   \n",
       "7                            6511.82  ...        2019-07-12           0.00   \n",
       "...                              ...  ...               ...            ...   \n",
       "28375                        8082.48  ...        2019-11-04         -89.59   \n",
       "28377                        2282.19  ...        2019-10-22           0.00   \n",
       "28378                        3668.83  ...        2019-12-17          -0.58   \n",
       "28379                       53444.81  ...        2019-12-31         783.78   \n",
       "28381                        3213.44  ...        2019-11-02          -7.33   \n",
       "\n",
       "       debit_change  balance_change  days_since_last_transaction  \\\n",
       "0              0.00            0.00                          224   \n",
       "4           -949.44         -474.00                           58   \n",
       "5            571.43         -857.14                           60   \n",
       "6            860.38         -707.26                           98   \n",
       "7          -5245.31         1577.05                          172   \n",
       "...             ...             ...                          ...   \n",
       "28375        -79.84          716.28                           57   \n",
       "28377          0.00            0.00                           70   \n",
       "28378       -113.07         -225.11                           14   \n",
       "28379         96.43         4494.42                            0   \n",
       "28381       -379.69         -714.29                           59   \n",
       "\n",
       "       occupation_retired  occupation_salaried  occupation_self_employed  \\\n",
       "0                       0                    0                         1   \n",
       "4                       0                    0                         1   \n",
       "5                       0                    0                         1   \n",
       "6                       1                    0                         0   \n",
       "7                       0                    0                         1   \n",
       "...                   ...                  ...                       ...   \n",
       "28375                   0                    0                         1   \n",
       "28377                   0                    0                         0   \n",
       "28378                   0                    0                         1   \n",
       "28379                   0                    1                         0   \n",
       "28381                   0                    0                         0   \n",
       "\n",
       "      occupation_student  gender_Male  \n",
       "0                      0            1  \n",
       "4                      0            1  \n",
       "5                      0            0  \n",
       "6                      0            1  \n",
       "7                      0            1  \n",
       "...                  ...          ...  \n",
       "28375                  0            1  \n",
       "28377                  1            0  \n",
       "28378                  0            0  \n",
       "28379                  0            1  \n",
       "28381                  1            1  \n",
       "\n",
       "[22067 rows x 28 columns]"
      ]
     },
     "execution_count": 80,
     "metadata": {},
     "output_type": "execute_result"
    }
   ],
   "source": [
    "df_encoded=pd.get_dummies(df,columns=['occupation','gender'],drop_first=True)\n",
    "df_encoded"
   ]
  },
  {
   "cell_type": "markdown",
   "metadata": {},
   "source": [
    "for normalizing my data i will use min max scaler since as we have seen in the graph on the EDA analysis we have skewed dataset and if my dataset was normally distributed we would have used standard scaler"
   ]
  },
  {
   "cell_type": "code",
   "execution_count": 81,
   "metadata": {},
   "outputs": [],
   "source": [
    "# here we used min max scaler since in the EDA we noticed the values are not normally distributed\n",
    "columns = ['current_balance', 'average_monthly_balance_prevQ',\n",
    "           'average_monthly_balance_prevQ2', 'current_month_credit',\n",
    "           'previous_month_credit', 'current_month_debit',\n",
    "           'previous_month_debit', 'current_month_balance',\n",
    "           'previous_month_balance']\n",
    "scaler=MinMaxScaler()\n",
    "df_encoded[columns]=scaler.fit_transform(df_encoded[columns])"
   ]
  },
  {
   "cell_type": "markdown",
   "metadata": {},
   "source": [
    "we will then define our X and y which is features and target respectively"
   ]
  },
  {
   "cell_type": "code",
   "execution_count": 82,
   "metadata": {},
   "outputs": [],
   "source": [
    "X=df_encoded.drop(columns=['churn','last_transaction'])\n",
    "y=df_encoded['churn']\n",
    "# we dropped last transaction since its in date time remember at EDA we did feature engineering by getting the days since last transaction"
   ]
  },
  {
   "cell_type": "code",
   "execution_count": 83,
   "metadata": {},
   "outputs": [],
   "source": [
    "X_train,X_test,y_train,y_test=train_test_split(X,y,test_size=0.2,random_state=42)"
   ]
  },
  {
   "cell_type": "markdown",
   "metadata": {},
   "source": [
    "we will the use smote to handle class imbalance as seen in the EDA analysis"
   ]
  },
  {
   "cell_type": "code",
   "execution_count": 84,
   "metadata": {},
   "outputs": [],
   "source": [
    "#We will the use class balanced to handle To handle imbalance as you saw on the EDA analysis the 0 and 1 was so imbalanced\n",
    "smote=SMOTE(random_state=42)\n",
    "X_train_resampled,y_train_resampled=smote.fit_resample(X_train,y_train)"
   ]
  },
  {
   "cell_type": "code",
   "execution_count": 85,
   "metadata": {},
   "outputs": [
    {
     "data": {
      "text/plain": [
       "LogisticRegression(C=1000000000000.0, fit_intercept=False, solver='liblinear')"
      ]
     },
     "execution_count": 85,
     "metadata": {},
     "output_type": "execute_result"
    }
   ],
   "source": [
    "#We will now use the logistic regression as the base line model to find the coefficients and we will keep on improving it incase it overfits and underfits\n",
    "logreg = LogisticRegression(fit_intercept=False, C=1e12, solver='liblinear')\n",
    "model_log = logreg.fit(X_train_resampled, y_train_resampled)\n",
    "model_log"
   ]
  },
  {
   "cell_type": "code",
   "execution_count": 86,
   "metadata": {},
   "outputs": [],
   "source": [
    "#here we create a dataframe for absolute coefficients as importance\n",
    "coeff=pd.DataFrame({\n",
    "    'Feature':X_train_resampled.columns,\n",
    "    'Importance':np.abs(model_log.coef_[0]),\n",
    "    \n",
    "}).sort_values(by='Importance',ascending=False)# we have created a dataframe to find feature importance"
   ]
  },
  {
   "cell_type": "code",
   "execution_count": 87,
   "metadata": {},
   "outputs": [
    {
     "name": "stdout",
     "output_type": "stream",
     "text": [
      "                           Feature  Importance\n",
      "0               occupation_retired       3.556\n",
      "1               occupation_student       3.342\n",
      "2              occupation_salaried       3.254\n",
      "3         occupation_self_employed       2.706\n",
      "4                      gender_Male       0.483\n",
      "5             previous_month_debit       0.289\n",
      "6             customer_nw_category       0.231\n",
      "7   average_monthly_balance_prevQ2       0.227\n",
      "8                       dependents       0.164\n",
      "9    average_monthly_balance_prevQ       0.145\n",
      "10          previous_month_balance       0.142\n",
      "11           previous_month_credit       0.096\n",
      "12           current_month_balance       0.057\n",
      "13             current_month_debit       0.054\n",
      "14            current_month_credit       0.018\n",
      "15                 current_balance       0.015\n",
      "16                             age       0.004\n",
      "17     days_since_last_transaction       0.002\n",
      "18                         vintage       0.001\n",
      "19                     branch_code       0.000\n",
      "20                            city       0.000\n",
      "21                  balance_change       0.000\n",
      "22                     customer_id       0.000\n",
      "23      previous_month_end_balance       0.000\n",
      "24                   credit_change       0.000\n",
      "25                    debit_change       0.000\n"
     ]
    }
   ],
   "source": [
    "# we will format the format importance to 3 decimal places for easier readability\n",
    "coeff['Importance']=coeff['Importance'].round(3)\n",
    "# we print to see the output\n",
    "print(coeff.reset_index(drop=True))"
   ]
  },
  {
   "cell_type": "markdown",
   "metadata": {},
   "source": [
    "for what we have done at the above a postive coefficient means that the feature increase chance of churn and negative is the vice versa\n",
    "using absolute coefficients measure the stregnth of the feature in regards to the churn column\n",
    "a big absolute value has strong impact\n",
    "a small absolute value has the feature has little impact and also we use it since it doesnt have a built in importance metric like decision trees"
   ]
  },
  {
   "cell_type": "markdown",
   "metadata": {},
   "source": [
    "we will use decision tree model to also extract important features in our model"
   ]
  },
  {
   "cell_type": "code",
   "execution_count": 88,
   "metadata": {},
   "outputs": [
    {
     "data": {
      "text/plain": [
       "DecisionTreeClassifier(class_weight='balanced', max_depth=5, random_state=42)"
      ]
     },
     "execution_count": 88,
     "metadata": {},
     "output_type": "execute_result"
    }
   ],
   "source": [
    "#we train the decision tree on the smote resampled data\n",
    "model2=DecisionTreeClassifier(max_depth=5,class_weight='balanced',random_state=42)\n",
    "\n",
    "model2.fit(X_train_resampled,y_train_resampled)#this is the training"
   ]
  },
  {
   "cell_type": "code",
   "execution_count": 89,
   "metadata": {},
   "outputs": [],
   "source": [
    "#we will now get the feature importances\n",
    "tree_coeff=pd.DataFrame({\n",
    "    'Feature':X_train_resampled.columns,\n",
    "    'Importance':model2.feature_importances_\n",
    "}).sort_values(by='Importance',ascending=False)"
   ]
  },
  {
   "cell_type": "code",
   "execution_count": 90,
   "metadata": {},
   "outputs": [
    {
     "name": "stdout",
     "output_type": "stream",
     "text": [
      "                           Feature  Importance\n",
      "7                  current_balance    0.454808\n",
      "19                  balance_change    0.181887\n",
      "23        occupation_self_employed    0.125582\n",
      "22             occupation_salaried    0.078495\n",
      "14            previous_month_debit    0.067501\n",
      "9    average_monthly_balance_prevQ    0.031135\n",
      "21              occupation_retired    0.021294\n",
      "18                    debit_change    0.011304\n",
      "3                       dependents    0.009341\n",
      "25                     gender_Male    0.006677\n",
      "20     days_since_last_transaction    0.003677\n",
      "5             customer_nw_category    0.002300\n",
      "6                      branch_code    0.002022\n",
      "8       previous_month_end_balance    0.001861\n",
      "11            current_month_credit    0.001144\n",
      "12           previous_month_credit    0.000973\n",
      "24              occupation_student    0.000000\n",
      "0                      customer_id    0.000000\n",
      "17                   credit_change    0.000000\n",
      "16          previous_month_balance    0.000000\n",
      "15           current_month_balance    0.000000\n",
      "1                          vintage    0.000000\n",
      "10  average_monthly_balance_prevQ2    0.000000\n",
      "4                             city    0.000000\n",
      "2                              age    0.000000\n",
      "13             current_month_debit    0.000000\n"
     ]
    }
   ],
   "source": [
    "#WE WILL SHOW THE TOP 10 FEATURES\n",
    "print(tree_coeff)"
   ]
  },
  {
   "cell_type": "code",
   "execution_count": 91,
   "metadata": {},
   "outputs": [
    {
     "name": "stdout",
     "output_type": "stream",
     "text": [
      "                           Feature  Logistic_Importance  Tree_Importance\n",
      "0               occupation_retired                3.556         0.021294\n",
      "1               occupation_student                3.342         0.000000\n",
      "2              occupation_salaried                3.254         0.078495\n",
      "3         occupation_self_employed                2.706         0.125582\n",
      "4                      gender_Male                0.483         0.006677\n",
      "5             previous_month_debit                0.289         0.067501\n",
      "6             customer_nw_category                0.231         0.002300\n",
      "7   average_monthly_balance_prevQ2                0.227         0.000000\n",
      "8                       dependents                0.164         0.009341\n",
      "9    average_monthly_balance_prevQ                0.145         0.031135\n",
      "10          previous_month_balance                0.142         0.000000\n",
      "11           previous_month_credit                0.096         0.000973\n",
      "12           current_month_balance                0.057         0.000000\n",
      "13             current_month_debit                0.054         0.000000\n",
      "14            current_month_credit                0.018         0.001144\n",
      "15                 current_balance                0.015         0.454808\n",
      "16                             age                0.004         0.000000\n",
      "17     days_since_last_transaction                0.002         0.003677\n",
      "18                         vintage                0.001         0.000000\n",
      "19                     branch_code                0.000         0.002022\n",
      "20                            city                0.000         0.000000\n",
      "21                  balance_change                0.000         0.181887\n",
      "22                     customer_id                0.000         0.000000\n",
      "23      previous_month_end_balance                0.000         0.001861\n",
      "24                   credit_change                0.000         0.000000\n",
      "25                    debit_change                0.000         0.011304\n"
     ]
    }
   ],
   "source": [
    "#WE WILL COMBINE THE BOTH MODEL RESULTS AND THEN GIVE THEM SIDE BY SIDE\n",
    "comparison=pd.merge(\n",
    "coeff.rename(columns={'Importance':'Logistic_Importance'}),\n",
    "tree_coeff.rename(columns={'Importance':'Tree_Importance'}),\n",
    "on='Feature',\n",
    "how='outer'\n",
    ")\n",
    "# we will sort thr model using logistic regression\n",
    "comparison=comparison.sort_values(by='Logistic_Importance',ascending=False)\n",
    "# we will then display it side by side\n",
    "print(comparison)"
   ]
  },
  {
   "cell_type": "markdown",
   "metadata": {},
   "source": [
    "cross_validation:From our observations we see that for logistic regresion the occupation and gender features are dominating and for the tree importance current balance is leading why?\n",
    "so for the logistic regression as much as we scaled the features categorical features where not scaled and since we did one hot encoding we create many columns and this increases the coefficiency and numeric as you can see have small coefficients\n",
    "for the decision trees as we can observe the high coefficient column in regards to churn is current balance and the benefit of this is that it also checks non linear relationships"
   ]
  },
  {
   "cell_type": "markdown",
   "metadata": {},
   "source": [
    "<h3>Objective 2:<li>Which predictive model between logistic and decision tree is better in terms of performance in indetifying churn?</li></h3>\n",
    "\n",
    "For the first objective we used logistic regression to check for feature importance with churn so we did the same for decision trees so we will do the ROC/AUC and confusion matrix to see which one performs better"
   ]
  },
  {
   "cell_type": "code",
   "execution_count": 92,
   "metadata": {},
   "outputs": [],
   "source": [
    "# we will start evaluating code using the logistic regression\n",
    "y_pred=model_log.predict(X_test)\n",
    "#we will also predict probabilitied  for the  class 1\n",
    "y_pred_proba=model_log.predict_proba(X_test)[:,1]"
   ]
  },
  {
   "cell_type": "code",
   "execution_count": 93,
   "metadata": {},
   "outputs": [],
   "source": [
    "accuracy=accuracy_score(y_test,y_pred)\n",
    "f1=f1_score(y_test,y_pred)\n",
    "recall=recall_score(y_test,y_pred)\n",
    "precision=precision_score(y_test,y_pred)\n",
    "# here shows the accuracy,f1 score,precision and recall"
   ]
  },
  {
   "cell_type": "code",
   "execution_count": 94,
   "metadata": {},
   "outputs": [
    {
     "name": "stdout",
     "output_type": "stream",
     "text": [
      " model:logistic  regression:\n",
      "accuracy:0.7288173991844132\n",
      "F1_Score:0.2624768946395564 \n",
      "Recall:0.24482758620689654\n",
      "Precision:0.28286852589641437\n"
     ]
    }
   ],
   "source": [
    "print(f\" model:logistic  regression:\")\n",
    "print(f\"accuracy:{accuracy}\")\n",
    "print(f\"F1_Score:{f1} \")\n",
    "print(f\"Recall:{recall}\")\n",
    "print(f\"Precision:{precision}\")"
   ]
  },
  {
   "cell_type": "code",
   "execution_count": 95,
   "metadata": {},
   "outputs": [],
   "source": [
    "# FOR The decision tree performance\n",
    "y_pred2=model2.predict(X_test)\n",
    "y_pred_proba2=model2.predict_proba(X_test)[:,1]"
   ]
  },
  {
   "cell_type": "code",
   "execution_count": 96,
   "metadata": {},
   "outputs": [],
   "source": [
    "accuracy=accuracy_score(y_test,y_pred2)\n",
    "f1=f1_score(y_test,y_pred2)\n",
    "recall=recall_score(y_test,y_pred2)\n",
    "precision=precision_score(y_test,y_pred2)\n"
   ]
  },
  {
   "cell_type": "code",
   "execution_count": 97,
   "metadata": {},
   "outputs": [
    {
     "name": "stdout",
     "output_type": "stream",
     "text": [
      " model:decision Trees:\n",
      "accuracy0.7689170820117807\n",
      " f1_Score0.5114942528735632 \n",
      "Recall0.6137931034482759\n",
      "Precision0.43842364532019706\n"
     ]
    }
   ],
   "source": [
    "print(f\" model:decision Trees:\")\n",
    "\n",
    "print(f\"accuracy{accuracy}\")\n",
    "\n",
    "print(f\" f1_Score{f1} \")\n",
    "\n",
    "print(f\"Recall{recall}\")\n",
    "\n",
    "print(f\"Precision{precision}\")"
   ]
  },
  {
   "cell_type": "markdown",
   "metadata": {},
   "source": [
    "<h7><b>THIS IS THE PERFORMANCE EVALUATION</b></h7>"
   ]
  },
  {
   "cell_type": "markdown",
   "metadata": {},
   "source": [
    "<h7><b>Based on the performance our accuracy score for the logistic regression is:</b></h7>\n",
    " 0.72 our recall is quite low 0.24 our precision is 0.27 while\n",
    " \n",
    "<h7><b>decision trees</b></h7>\n",
    "the accuracy is 0.76 which is 76%\n",
    "f1 score is 51% or 0.51 \n",
    "recall is 0.6 or 61%\n",
    "precision is 0.4 or 43%\n",
    "\n",
    "In comparison to the two models decision trees performs way better even though decision trees needs some improvements here and there its way better than logistic regression\n",
    "\n",
    "we also observed that even in terms of feature importance decision trees seem to indentify non linear relationships and not affected by the one hot encoding done unlike logistic regression which even after we handled imbalance we handled scaling and did one hot encoding its performance was low\n",
    "\n",
    "<B>in conclusion:we will chose the decision trees as the final model but we will improve it then use it for segmenting churners into high low and moderate risk churners</B>\n"
   ]
  },
  {
   "cell_type": "markdown",
   "metadata": {},
   "source": [
    "<h3>Objective 3:<li>How can clients be segmented into high,moderate and low churn risk categories based on their predicated probability of churning?</li></h3>\n"
   ]
  },
  {
   "cell_type": "markdown",
   "metadata": {},
   "source": [
    "since we did identified decision trees as the best model for the project we will do the following:\n",
    "<ol>\n",
    "<li>We will check for overfitting and we will improve our model based on this</li>\n",
    "<li>We will then segment our clients into high,moderate and low risk churn categories</li>\n",
    "</ol>"
   ]
  },
  {
   "cell_type": "markdown",
   "metadata": {},
   "source": [
    "step1:checking overfitting\n",
    "we will do this my comparing the train and test if the train is way higher than test set we will do prunning which is removing unwanted features so as to improve model performance"
   ]
  },
  {
   "cell_type": "code",
   "execution_count": 98,
   "metadata": {},
   "outputs": [
    {
     "name": "stdout",
     "output_type": "stream",
     "text": [
      "accurate scores are :Train: 0.7795283879570496,    Test: 0.7689170820117807\n"
     ]
    }
   ],
   "source": [
    "#here we are testing or rather comparing the test and trained data to see if there is overfitting\n",
    "#if overfitting is present the training data will either be abit or way higher than test data\n",
    "\n",
    "train=model2.predict(X_train_resampled)\n",
    "test=model2.predict(X_test)\n",
    "#Accuracy\n",
    "train_accuracy=accuracy_score(y_train_resampled,train)\n",
    "test_accuracy=accuracy_score(y_test,test)\n",
    "print(f\"accurate scores are :Train: {train_accuracy},    Test: {test_accuracy}\")"
   ]
  },
  {
   "cell_type": "markdown",
   "metadata": {},
   "source": [
    "<h3>Assessing results</h3>\n",
    "based ont the results of the training and testing of data there is a slight overfitting of the model hence it could be contributing to low precision.\n",
    "We will draw an ROC /AUC CURVE to see how it looks then we use prunning to solve the overfitting\n"
   ]
  },
  {
   "cell_type": "code",
   "execution_count": 99,
   "metadata": {},
   "outputs": [
    {
     "name": "stdout",
     "output_type": "stream",
     "text": [
      "AUC: 0.7515783516255417\n"
     ]
    }
   ],
   "source": [
    "# we will first calculate the probailty scores of each datapoints\n",
    "y_score=model2.predict_proba(X_test)[:,1]\n",
    "fpr,tpr,thresholds=roc_curve(y_test,y_score)\n",
    "AUC=auc(fpr,tpr)\n",
    "print('AUC:',AUC)"
   ]
  },
  {
   "cell_type": "code",
   "execution_count": 100,
   "metadata": {},
   "outputs": [
    {
     "data": {
      "image/png": "[encoded data removed]",
      "text/plain": [
       "<Figure size 720x576 with 1 Axes>"
      ]
     },
     "metadata": {
      "needs_background": "light"
     },
     "output_type": "display_data"
    }
   ],
   "source": [
    "# we will the plot the ROC CURVE\n",
    "plt.figure(figsize=(10,8))\n",
    "sns.lineplot(x=fpr,y=tpr,color='darkorange',lw=2,label=f'ROC CURVE(AUC={AUC: .2f})')\n",
    "plt.plot([0,1],[0,1],color='navy',linestyle='--',lw=1.5,label='Random Guess')\n",
    "plt.xlabel('False Positive Rate')\n",
    "plt.ylabel('True Positive Rate(Recall)')\n",
    "plt.title('ROC curve for Decision Tree')\n",
    "plt.legend(loc='lower right')\n",
    "plt.grid(True)\n",
    "plt.show()\n"
   ]
  },
  {
   "cell_type": "markdown",
   "metadata": {},
   "source": [
    "<h7><b>summary of my graph</b></h7>\n",
    "\n",
    "My model is doing fairly good in distinguishing between churners and non churners \n",
    "\n",
    "However its not really hugging the top left corner which it should near 1.0 so this indicates we nedd to improve the model and prunning is the best option here"
   ]
  },
  {
   "cell_type": "markdown",
   "metadata": {},
   "source": [
    "<h4><b>PRUNNING</b><h/4>"
   ]
  },
  {
   "cell_type": "markdown",
   "metadata": {},
   "source": [
    "We will do pre pruning the decision tree  this will help in limiting the depth and controlling how the splitting happens here will help in preventing overfiiting"
   ]
  },
  {
   "cell_type": "code",
   "execution_count": 129,
   "metadata": {},
   "outputs": [],
   "source": [
    "tree_m=DecisionTreeClassifier(max_depth=5,   # reduce the depth to 5\n",
    "                              min_samples_split=10,\n",
    "                              min_samples_leaf=5,\n",
    "                              random_state=42,\n",
    "                              class_weight='balanced'\n",
    ")"
   ]
  },
  {
   "cell_type": "code",
   "execution_count": 130,
   "metadata": {},
   "outputs": [
    {
     "data": {
      "text/plain": [
       "DecisionTreeClassifier(class_weight='balanced', max_depth=5, min_samples_leaf=5,\n",
       "                       min_samples_split=10, random_state=42)"
      ]
     },
     "execution_count": 130,
     "metadata": {},
     "output_type": "execute_result"
    }
   ],
   "source": [
    "#WE WILL TRAIN THE MODEL\n",
    "tree_m.fit(X_train_resampled,y_train_resampled)"
   ]
  },
  {
   "cell_type": "code",
   "execution_count": 131,
   "metadata": {},
   "outputs": [],
   "source": [
    "#we will then make predictions\n",
    "y_pred1=tree_m.predict(X_test)\n",
    "y_proba=tree_m.predict_proba(X_test)[:,1]"
   ]
  },
  {
   "cell_type": "markdown",
   "metadata": {},
   "source": [
    "the above the y_pred will give the class labels (0 or 1) for evaluating precision and also recla\n",
    "y_proba gives the probabilities used in the ROC AND AUC SCORE"
   ]
  },
  {
   "cell_type": "markdown",
   "metadata": {},
   "source": [
    "<B>We will evaluate performance</B>"
   ]
  },
  {
   "cell_type": "code",
   "execution_count": 122,
   "metadata": {},
   "outputs": [
    {
     "name": "stdout",
     "output_type": "stream",
     "text": [
      "[[2860  684]\n",
      " [ 336  534]]\n",
      "              precision    recall  f1-score   support\n",
      "\n",
      "           0       0.89      0.81      0.85      3544\n",
      "           1       0.44      0.61      0.51       870\n",
      "\n",
      "    accuracy                           0.77      4414\n",
      "   macro avg       0.67      0.71      0.68      4414\n",
      "weighted avg       0.80      0.77      0.78      4414\n",
      "\n",
      "ROC AUC SCORE 0.7515783516255417\n",
      "accuracy_score 0.7689170820117807\n"
     ]
    }
   ],
   "source": [
    "print(confusion_matrix(y_test,y_pred1))\n",
    "print(classification_report(y_test,y_pred1))\n",
    "print(\"ROC AUC SCORE\",roc_auc_score(y_test,y_proba))\n",
    "print(\"accuracy_score\",accuracy_score(y_test,y_pred1))"
   ]
  },
  {
   "cell_type": "code",
   "execution_count": 132,
   "metadata": {},
   "outputs": [
    {
     "name": "stdout",
     "output_type": "stream",
     "text": [
      "AUC: 0.7515783516255417\n"
     ]
    }
   ],
   "source": [
    "# we will first calculate the probailty scores of each datapoints\n",
    "y_score1=tree_m.predict_proba(X_test)[:,1]\n",
    "fpr,tpr,thresholds=roc_curve(y_test,y_score)\n",
    "AUC=auc(fpr,tpr)\n",
    "print('AUC:',AUC)"
   ]
  },
  {
   "cell_type": "code",
   "execution_count": 133,
   "metadata": {},
   "outputs": [
    {
     "data": {
      "image/png": "[encoded data removed]",
      "text/plain": [
       "<Figure size 720x576 with 1 Axes>"
      ]
     },
     "metadata": {
      "needs_background": "light"
     },
     "output_type": "display_data"
    }
   ],
   "source": [
    "# we will the plot the ROC CURVE\n",
    "plt.figure(figsize=(10,8))\n",
    "sns.lineplot(x=fpr,y=tpr,color='darkorange',lw=2,label=f'ROC CURVE(AUC={AUC: .2f})')\n",
    "plt.plot([0,1],[0,1],color='navy',linestyle='--',lw=1.5,label='Random Guess')\n",
    "plt.xlabel('False Positive Rate')\n",
    "plt.ylabel('True Positive Rate(Recall)')\n",
    "plt.title('ROC curve for Decision Tree')\n",
    "plt.legend(loc='lower right')\n",
    "plt.grid(True)\n",
    "plt.show()"
   ]
  },
  {
   "cell_type": "markdown",
   "metadata": {},
   "source": [
    "Conclusion: As much our precision and recall has increased our AUC AND ROC is pretty the same but its fairly ok we will work with it\n",
    "before pre prunning the recall was Recall0.6137931034482759 and precision was Precision0.43842364532019706\n",
    "After preprunning the recall is\n"
   ]
  },
  {
   "cell_type": "code",
   "execution_count": null,
   "metadata": {},
   "outputs": [],
   "source": [
    "# we have done the preprunning lets see any changes\n",
    "y_scores=tree_m.predict_proba(X_test)[:,1]\n",
    "precisions,recall,threshold=precision_recall_curve(y_test,y_scores)# we will see the thresholds and see how model is performing in terms of precision and recall\n",
    "\n",
    "plt.plot(threshold,precision[:-1],label)"
   ]
  },
  {
   "cell_type": "code",
   "execution_count": 137,
   "metadata": {},
   "outputs": [
    {
     "data": {
      "image/png": "[encoded data removed]",
      "text/plain": [
       "<Figure size 432x288 with 1 Axes>"
      ]
     },
     "metadata": {
      "needs_background": "light"
     },
     "output_type": "display_data"
    }
   ],
   "source": [
    "\n",
    "y_scores = tree_m.predict_proba(X_test)[:, 1]\n",
    "precisions, recalls, thresholds = precision_recall_curve(y_test, y_scores)\n",
    "\n",
    "\n",
    "plt.plot(thresholds, precisions[:-1], label=\"Precision\")\n",
    "plt.plot(thresholds, recalls[:-1], label=\"Recall\")\n",
    "plt.xlabel(\"Decision Threshold\")\n",
    "plt.legend()\n",
    "plt.grid()\n",
    "plt.title(\"Precision-Recall vs Threshold\")\n",
    "plt.show()\n"
   ]
  },
  {
   "cell_type": "code",
   "execution_count": null,
   "metadata": {},
   "outputs": [],
   "source": [
    "# we"
   ]
  }
 ],
 "metadata": {
  "kernelspec": {
   "display_name": "Python (learn-env)",
   "language": "python",
   "name": "learn-env"
  },
  "language_info": {
   "codemirror_mode": {
    "name": "ipython",
    "version": 3
   },
   "file_extension": ".py",
   "mimetype": "text/x-python",
   "name": "python",
   "nbconvert_exporter": "python",
   "pygments_lexer": "ipython3",
   "version": "3.8.5"
  }
 },
 "nbformat": 4,
 "nbformat_minor": 4
}
